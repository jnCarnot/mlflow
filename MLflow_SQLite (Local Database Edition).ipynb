{
 "cells": [
  {
   "cell_type": "markdown",
   "id": "a8da8d4a-720e-4908-b724-d56ec73df6f8",
   "metadata": {},
   "source": [
    "# MLflow x SQLite (Local Database Edition)"
   ]
  },
  {
   "cell_type": "markdown",
   "id": "c1ceeb84-7f98-479c-ae29-ff79fef476d6",
   "metadata": {},
   "source": [
    "### Set up environment - connect to mlflow"
   ]
  },
  {
   "cell_type": "code",
   "execution_count": 1,
   "id": "524c51b4-818a-490a-98d7-81ac51ffec11",
   "metadata": {},
   "outputs": [
    {
     "name": "stdout",
     "output_type": "stream",
     "text": [
      "env: MLFLOW_TRACKING_URI=sqlite:///mlruns.db\n"
     ]
    }
   ],
   "source": [
    "%env MLFLOW_TRACKING_URI=sqlite:///mlruns.db"
   ]
  },
  {
   "cell_type": "markdown",
   "id": "0ca70ac9-8835-4d46-b5e7-0483c37ee778",
   "metadata": {},
   "source": [
    "**Alternatively, you can also perform it in your CLI as such**\n",
    "`export MLFLOW_TRACKING URI=sqlite:///mlruns.db`\n",
    "\n",
    "**If you are using window**\n",
    "\n",
    "\n",
    "`set MLFLOW_TRACKING_URI=sqlite:///mlrun.db` \n",
    "\n",
    "*Noted that the 'set' function may not function sometimes, a better alternative may be to use*\n",
    "\n",
    "`$env:MLFLOW_TRACKING_URI=\"sqlite:///mlrun.db`"
   ]
  },
  {
   "cell_type": "markdown",
   "id": "08cf6f49-1e4a-4a66-bb12-a1254997cbaf",
   "metadata": {
    "jp-MarkdownHeadingCollapsed": true
   },
   "source": [
    "### Set up example experiments"
   ]
  },
  {
   "cell_type": "code",
   "execution_count": null,
   "id": "d49222a6-0d6b-48ab-bcdd-43ce1e4838e6",
   "metadata": {},
   "outputs": [],
   "source": [
    "# First example experiment\n",
    "\n",
    "import mlflow\n",
    "\n",
    "from sklearn.model_selection import train_test_split\n",
    "from sklearn.datasets import load_diabetes\n",
    "from sklearn.ensemble import RandomForestRegressor\n",
    "\n",
    "mlflow.sklearn.autolog()\n",
    "\n",
    "db = load_diabetes()\n",
    "X_train, X_test, y_train, y_test = train_test_split(db.data, db.target)\n",
    "\n",
    "# Create and train models.\n",
    "rf = RandomForestRegressor(n_estimators=100, max_depth=6, max_features=3)\n",
    "rf.fit(X_train, y_train)\n",
    "\n",
    "# Use the model to make predictions on the test dataset.\n",
    "predictions = rf.predict(X_test)"
   ]
  },
  {
   "cell_type": "code",
   "execution_count": 16,
   "id": "14b54f00-a45d-4257-9424-1089507baef4",
   "metadata": {},
   "outputs": [
    {
     "name": "stderr",
     "output_type": "stream",
     "text": [
      "2024/01/08 10:06:39 INFO mlflow.tracking.fluent: Experiment with name 'iris classification' does not exist. Creating a new experiment.\n",
      "C:\\Users\\carnot\\anaconda3\\envs\\mlflow_testing\\Lib\\site-packages\\_distutils_hack\\__init__.py:33: UserWarning: Setuptools is replacing distutils.\n",
      "  warnings.warn(\"Setuptools is replacing distutils.\")\n",
      "Successfully registered model 'iris_model'.\n",
      "2024/01/08 10:06:46 INFO mlflow.tracking._model_registry.client: Waiting up to 300 seconds for model version to finish creation. Model name: iris_model, version 1\n",
      "Created version '1' of model 'iris_model'.\n"
     ]
    }
   ],
   "source": [
    "# Second example experiment\n",
    "import mlflow\n",
    "from mlflow.models import infer_signature\n",
    "\n",
    "import pandas as pd\n",
    "from sklearn import datasets\n",
    "from sklearn.model_selection import train_test_split\n",
    "from sklearn.linear_model import LogisticRegression\n",
    "from sklearn.metrics import accuracy_score, precision_score, recall_score, f1_score\n",
    "\n",
    "# Load the Iris dataset\n",
    "X, y = datasets.load_iris(return_X_y=True)\n",
    "\n",
    "# Split the data into training and test sets\n",
    "X_train, X_test, y_train, y_test = train_test_split(X, y, test_size=0.2, random_state=42)\n",
    "\n",
    "# Define the model hyperparameters\n",
    "params = {\"solver\": \"lbfgs\", \"max_iter\": 1000, \"multi_class\": \"auto\", \"random_state\": 8888}\n",
    "\n",
    "# Train the model\n",
    "lr = LogisticRegression(**params)\n",
    "lr.fit(X_train, y_train)\n",
    "\n",
    "# Predict on the test set\n",
    "y_pred = lr.predict(X_test)\n",
    "\n",
    "# Calculate accuracy as a target loss metric\n",
    "accuracy = accuracy_score(y_test, y_pred)\n",
    "\n",
    "mlflow.set_experiment(\"iris classification\")\n",
    "\n",
    "import os\n",
    "# Start an MLflow run\n",
    "with mlflow.start_run(run_name='abcde'):\n",
    "    # Log the hyperparameters\n",
    "    mlflow.log_params(params)\n",
    "\n",
    "    # Log the loss metric\n",
    "    mlflow.log_metric(\"accuracy\", accuracy)\n",
    "\n",
    "    # Set a tag that we can use to remind ourselves what this run was for\n",
    "    mlflow.set_tag(\"Training Info\", \"Basic LR model for iris data\")\n",
    "\n",
    "    # Infer the model signature\n",
    "    signature = infer_signature(X_train, lr.predict(X_train))\n",
    "        \n",
    "    # Log the model\n",
    "    model_info = mlflow.sklearn.log_model(\n",
    "        sk_model=lr,\n",
    "        artifact_path='iris_model',\n",
    "        signature=signature,\n",
    "        input_example=X_train,\n",
    "        registered_model_name=\"iris_model\",\n",
    "    )"
   ]
  },
  {
   "cell_type": "markdown",
   "id": "6df12346-4115-4344-a3ea-129c96803866",
   "metadata": {},
   "source": [
    "### Access to mlflow ui"
   ]
  },
  {
   "cell_type": "markdown",
   "id": "8138e704-087e-4610-87c4-046cb3b5eb50",
   "metadata": {},
   "source": [
    "`mlflow ui --port 8080 --backend-store-uri sqlite:///mlruns.db`"
   ]
  },
  {
   "cell_type": "markdown",
   "id": "b01ef039-9a5b-4351-b4d5-09ba3558abcf",
   "metadata": {},
   "source": [
    "## Brief look at the structure inside the database"
   ]
  },
  {
   "cell_type": "code",
   "execution_count": 3,
   "id": "b3b287de-0eac-4788-ad57-eed0e1789b56",
   "metadata": {},
   "outputs": [],
   "source": [
    "import sqlite3"
   ]
  },
  {
   "cell_type": "code",
   "execution_count": 4,
   "id": "62589a23-3636-4177-b02f-f1e61411fd27",
   "metadata": {},
   "outputs": [],
   "source": [
    "conn = sqlite3.connect('mlruns.db')"
   ]
  },
  {
   "cell_type": "code",
   "execution_count": 5,
   "id": "8a6d4eab-5e35-4e3e-9354-a51bd17c12fa",
   "metadata": {},
   "outputs": [],
   "source": [
    "c = conn.cursor()"
   ]
  },
  {
   "cell_type": "markdown",
   "id": "fa977662-b595-403f-9ed2-2d0584761459",
   "metadata": {},
   "source": [
    "### Display all tables in the database"
   ]
  },
  {
   "cell_type": "code",
   "execution_count": 19,
   "id": "83751066-c570-424e-9ce2-5767d66d31fd",
   "metadata": {},
   "outputs": [
    {
     "data": {
      "text/plain": [
       "[('experiments',),\n",
       " ('alembic_version',),\n",
       " ('experiment_tags',),\n",
       " ('tags',),\n",
       " ('registered_models',),\n",
       " ('runs',),\n",
       " ('registered_model_tags',),\n",
       " ('model_version_tags',),\n",
       " ('model_versions',),\n",
       " ('latest_metrics',),\n",
       " ('metrics',),\n",
       " ('params',),\n",
       " ('registered_model_aliases',),\n",
       " ('datasets',),\n",
       " ('inputs',),\n",
       " ('input_tags',)]"
      ]
     },
     "execution_count": 19,
     "metadata": {},
     "output_type": "execute_result"
    }
   ],
   "source": [
    "query = \"\"\"\n",
    "SELECT name\n",
    "FROM sqlite_master WHERE type='table';\n",
    "\"\"\"\n",
    "result = c.execute(query)\n",
    "result.fetchall()"
   ]
  },
  {
   "cell_type": "markdown",
   "id": "87625732-a8b2-42f6-bf64-f501edc4aa65",
   "metadata": {},
   "source": [
    "### Brief touch into what each table contains"
   ]
  },
  {
   "cell_type": "markdown",
   "id": "2c79ef35-823b-4a9c-a11d-cde99a2d6ee4",
   "metadata": {
    "jp-MarkdownHeadingCollapsed": true
   },
   "source": [
    "#### experiments"
   ]
  },
  {
   "cell_type": "code",
   "execution_count": 26,
   "id": "1294d30f-d704-41b7-8213-16765c88e0d3",
   "metadata": {},
   "outputs": [
    {
     "data": {
      "text/plain": [
       "[(0, 'experiment_id', 'INTEGER', 1, None, 1),\n",
       " (1, 'name', 'VARCHAR(256)', 1, None, 0),\n",
       " (2, 'artifact_location', 'VARCHAR(256)', 0, None, 0),\n",
       " (3, 'lifecycle_stage', 'VARCHAR(32)', 0, None, 0),\n",
       " (4, 'creation_time', 'BIGINT', 0, None, 0),\n",
       " (5, 'last_update_time', 'BIGINT', 0, None, 0)]"
      ]
     },
     "execution_count": 26,
     "metadata": {},
     "output_type": "execute_result"
    }
   ],
   "source": [
    "# table structure\n",
    "query = \"\"\"\n",
    "PRAGMA table_info('experiments')\n",
    "\"\"\"\n",
    "result = c.execute(query)\n",
    "result.fetchall()"
   ]
  },
  {
   "cell_type": "code",
   "execution_count": 20,
   "id": "023eaa65-aa71-45ca-8b91-ba0b04d8e62f",
   "metadata": {},
   "outputs": [
    {
     "data": {
      "text/plain": [
       "[(0,\n",
       "  'Default',\n",
       "  'file:///C:/Users/carnot/Desktop/mlflow/mlruns/0',\n",
       "  'active',\n",
       "  1704441364229,\n",
       "  1704441364229),\n",
       " (1,\n",
       "  'iris classification',\n",
       "  'file:///C:/Users/carnot/Desktop/mlflow/mlruns/1',\n",
       "  'active',\n",
       "  1704679599786,\n",
       "  1704679599786)]"
      ]
     },
     "execution_count": 20,
     "metadata": {},
     "output_type": "execute_result"
    }
   ],
   "source": [
    "# content from the two example experiments\n",
    "query = \"\"\"\n",
    "SELECT * \n",
    "FROM experiments\n",
    "\"\"\"\n",
    "result = c.execute(query)\n",
    "result.fetchall()"
   ]
  },
  {
   "cell_type": "markdown",
   "id": "85676838-6072-41ed-8815-3544134ca530",
   "metadata": {
    "jp-MarkdownHeadingCollapsed": true
   },
   "source": [
    "#### registered_models"
   ]
  },
  {
   "cell_type": "code",
   "execution_count": 27,
   "id": "a2ede9bc-ec25-437d-90ce-60443454b870",
   "metadata": {},
   "outputs": [
    {
     "data": {
      "text/plain": [
       "[(0, 'name', 'VARCHAR(256)', 1, None, 1),\n",
       " (1, 'creation_time', 'BIGINT', 0, None, 0),\n",
       " (2, 'last_updated_time', 'BIGINT', 0, None, 0),\n",
       " (3, 'description', 'VARCHAR(5000)', 0, None, 0)]"
      ]
     },
     "execution_count": 27,
     "metadata": {},
     "output_type": "execute_result"
    }
   ],
   "source": [
    "# table structure\n",
    "query = \"\"\"\n",
    "PRAGMA table_info('registered_models')\n",
    "\"\"\"\n",
    "result = c.execute(query)\n",
    "result.fetchall()"
   ]
  },
  {
   "cell_type": "code",
   "execution_count": 24,
   "id": "b30b6e55-e88c-45e3-b105-e71f6827f780",
   "metadata": {},
   "outputs": [
    {
     "data": {
      "text/plain": [
       "[('iris_model', 1704679606346, 1704679606374, None)]"
      ]
     },
     "execution_count": 24,
     "metadata": {},
     "output_type": "execute_result"
    }
   ],
   "source": [
    "query = \"\"\"\n",
    "SELECT * \n",
    "FROM registered_models\n",
    "\"\"\"\n",
    "result = c.execute(query)\n",
    "result.fetchall()"
   ]
  },
  {
   "cell_type": "markdown",
   "id": "fcc6ef78-0c60-4578-b858-37b2cbdd0bc6",
   "metadata": {
    "jp-MarkdownHeadingCollapsed": true
   },
   "source": [
    "#### runs"
   ]
  },
  {
   "cell_type": "code",
   "execution_count": 28,
   "id": "d4a68d38-20df-43d5-8be2-c6548bb74b82",
   "metadata": {},
   "outputs": [
    {
     "data": {
      "text/plain": [
       "[(0, 'run_uuid', 'VARCHAR(32)', 1, None, 1),\n",
       " (1, 'name', 'VARCHAR(250)', 0, None, 0),\n",
       " (2, 'source_type', 'VARCHAR(20)', 0, None, 0),\n",
       " (3, 'source_name', 'VARCHAR(500)', 0, None, 0),\n",
       " (4, 'entry_point_name', 'VARCHAR(50)', 0, None, 0),\n",
       " (5, 'user_id', 'VARCHAR(256)', 0, None, 0),\n",
       " (6, 'status', 'VARCHAR(9)', 0, None, 0),\n",
       " (7, 'start_time', 'BIGINT', 0, None, 0),\n",
       " (8, 'end_time', 'BIGINT', 0, None, 0),\n",
       " (9, 'source_version', 'VARCHAR(50)', 0, None, 0),\n",
       " (10, 'lifecycle_stage', 'VARCHAR(20)', 0, None, 0),\n",
       " (11, 'artifact_uri', 'VARCHAR(200)', 0, None, 0),\n",
       " (12, 'experiment_id', 'INTEGER', 0, None, 0),\n",
       " (13, 'deleted_time', 'BIGINT', 0, None, 0)]"
      ]
     },
     "execution_count": 28,
     "metadata": {},
     "output_type": "execute_result"
    }
   ],
   "source": [
    "# table structure\n",
    "query = \"\"\"\n",
    "PRAGMA table_info('runs')\n",
    "\"\"\"\n",
    "result = c.execute(query)\n",
    "result.fetchall()"
   ]
  },
  {
   "cell_type": "code",
   "execution_count": 25,
   "id": "f03a5236-40b5-4ed6-8518-6fc073b59960",
   "metadata": {
    "scrolled": true
   },
   "outputs": [
    {
     "data": {
      "text/plain": [
       "[('4e5d585615ad4832bbaf3eeb3c9989ef',\n",
       "  'handsome-shoat-904',\n",
       "  'UNKNOWN',\n",
       "  '',\n",
       "  '',\n",
       "  'carnot',\n",
       "  'FINISHED',\n",
       "  1704441364650,\n",
       "  1704441371683,\n",
       "  '',\n",
       "  'active',\n",
       "  'file:///C:/Users/carnot/Desktop/mlflow/mlruns/0/4e5d585615ad4832bbaf3eeb3c9989ef/artifacts',\n",
       "  0,\n",
       "  None),\n",
       " ('68df3105fe12435fa339f4bcbc62b355',\n",
       "  'abcde',\n",
       "  'UNKNOWN',\n",
       "  '',\n",
       "  '',\n",
       "  'carnot',\n",
       "  'FINISHED',\n",
       "  1704679600210,\n",
       "  1704679606405,\n",
       "  '',\n",
       "  'active',\n",
       "  'file:///C:/Users/carnot/Desktop/mlflow/mlruns/1/68df3105fe12435fa339f4bcbc62b355/artifacts',\n",
       "  1,\n",
       "  None)]"
      ]
     },
     "execution_count": 25,
     "metadata": {},
     "output_type": "execute_result"
    }
   ],
   "source": [
    "query = \"\"\"\n",
    "SELECT * \n",
    "FROM runs\n",
    "\"\"\"\n",
    "result = c.execute(query)\n",
    "result.fetchall()"
   ]
  },
  {
   "cell_type": "markdown",
   "id": "2273599b-e509-4e5c-8cb4-bdb85723473a",
   "metadata": {
    "jp-MarkdownHeadingCollapsed": true
   },
   "source": [
    "#### model_versions"
   ]
  },
  {
   "cell_type": "code",
   "execution_count": 15,
   "id": "b66115c0-4606-40de-b542-92f0c26dceea",
   "metadata": {},
   "outputs": [
    {
     "data": {
      "text/plain": [
       "[(0, 'name', 'VARCHAR(256)', 1, None, 1),\n",
       " (1, 'version', 'INTEGER', 1, None, 2),\n",
       " (2, 'creation_time', 'BIGINT', 0, None, 0),\n",
       " (3, 'last_updated_time', 'BIGINT', 0, None, 0),\n",
       " (4, 'description', 'VARCHAR(5000)', 0, None, 0),\n",
       " (5, 'user_id', 'VARCHAR(256)', 0, None, 0),\n",
       " (6, 'current_stage', 'VARCHAR(20)', 0, None, 0),\n",
       " (7, 'source', 'VARCHAR(500)', 0, None, 0),\n",
       " (8, 'run_id', 'VARCHAR(32)', 0, None, 0),\n",
       " (9, 'status', 'VARCHAR(20)', 0, None, 0),\n",
       " (10, 'status_message', 'VARCHAR(500)', 0, None, 0),\n",
       " (11, 'run_link', 'VARCHAR(500)', 0, None, 0)]"
      ]
     },
     "execution_count": 15,
     "metadata": {},
     "output_type": "execute_result"
    }
   ],
   "source": [
    "# table structure\n",
    "query = \"\"\"\n",
    "PRAGMA table_info('model_versions')\n",
    "\"\"\"\n",
    "result = c.execute(query)\n",
    "result.fetchall()"
   ]
  },
  {
   "cell_type": "code",
   "execution_count": 16,
   "id": "48b5393f-1d1d-419f-8753-c02c7391a10d",
   "metadata": {},
   "outputs": [
    {
     "data": {
      "text/plain": [
       "[('iris_model',\n",
       "  1,\n",
       "  1704679606374,\n",
       "  1704679606374,\n",
       "  None,\n",
       "  None,\n",
       "  'None',\n",
       "  'file:///C:/Users/carnot/Desktop/mlflow/mlruns/1/68df3105fe12435fa339f4bcbc62b355/artifacts/iris_model',\n",
       "  '68df3105fe12435fa339f4bcbc62b355',\n",
       "  'READY',\n",
       "  None,\n",
       "  None)]"
      ]
     },
     "execution_count": 16,
     "metadata": {},
     "output_type": "execute_result"
    }
   ],
   "source": [
    "query = \"\"\"\n",
    "SELECT * \n",
    "FROM model_versions\n",
    "\"\"\"\n",
    "result = c.execute(query)\n",
    "result.fetchall()"
   ]
  },
  {
   "cell_type": "markdown",
   "id": "eff0d1e9-6ad9-4cf1-bb5c-ecff5c33bac2",
   "metadata": {
    "jp-MarkdownHeadingCollapsed": true
   },
   "source": [
    "#### latest_metrics"
   ]
  },
  {
   "cell_type": "code",
   "execution_count": 17,
   "id": "d598a2eb-b2ad-4eb0-9e1f-88a41ef94473",
   "metadata": {},
   "outputs": [
    {
     "data": {
      "text/plain": [
       "[(0, 'key', 'VARCHAR(250)', 1, None, 1),\n",
       " (1, 'value', 'FLOAT', 1, None, 0),\n",
       " (2, 'timestamp', 'BIGINT', 0, None, 0),\n",
       " (3, 'step', 'BIGINT', 1, None, 0),\n",
       " (4, 'is_nan', 'BOOLEAN', 1, None, 0),\n",
       " (5, 'run_uuid', 'VARCHAR(32)', 1, None, 2)]"
      ]
     },
     "execution_count": 17,
     "metadata": {},
     "output_type": "execute_result"
    }
   ],
   "source": [
    "# table structure\n",
    "query = \"\"\"\n",
    "PRAGMA table_info('latest_metrics')\n",
    "\"\"\"\n",
    "result = c.execute(query)\n",
    "result.fetchall()"
   ]
  },
  {
   "cell_type": "code",
   "execution_count": 18,
   "id": "39b1377d-d00f-45be-8f1d-77e83fe7cc6d",
   "metadata": {
    "scrolled": true
   },
   "outputs": [
    {
     "data": {
      "text/plain": [
       "[('training_mean_squared_error',\n",
       "  1362.2927408171518,\n",
       "  1704441365061,\n",
       "  0,\n",
       "  0,\n",
       "  '4e5d585615ad4832bbaf3eeb3c9989ef'),\n",
       " ('training_mean_absolute_error',\n",
       "  30.825004251359697,\n",
       "  1704441365061,\n",
       "  0,\n",
       "  0,\n",
       "  '4e5d585615ad4832bbaf3eeb3c9989ef'),\n",
       " ('training_r2_score',\n",
       "  0.7761959125801277,\n",
       "  1704441365061,\n",
       "  0,\n",
       "  0,\n",
       "  '4e5d585615ad4832bbaf3eeb3c9989ef'),\n",
       " ('training_root_mean_squared_error',\n",
       "  36.9092500711834,\n",
       "  1704441365061,\n",
       "  0,\n",
       "  0,\n",
       "  '4e5d585615ad4832bbaf3eeb3c9989ef'),\n",
       " ('training_score',\n",
       "  0.7761959125801277,\n",
       "  1704441365097,\n",
       "  0,\n",
       "  0,\n",
       "  '4e5d585615ad4832bbaf3eeb3c9989ef'),\n",
       " ('accuracy', 1.0, 1704679600256, 0, 0, '68df3105fe12435fa339f4bcbc62b355')]"
      ]
     },
     "execution_count": 18,
     "metadata": {},
     "output_type": "execute_result"
    }
   ],
   "source": [
    "query = \"\"\"\n",
    "SELECT * \n",
    "FROM latest_metrics\n",
    "\"\"\"\n",
    "result = c.execute(query)\n",
    "result.fetchall()"
   ]
  },
  {
   "cell_type": "markdown",
   "id": "2a7e7702-2912-4911-8fcb-7756b5789627",
   "metadata": {
    "jp-MarkdownHeadingCollapsed": true
   },
   "source": [
    "#### metrics"
   ]
  },
  {
   "cell_type": "code",
   "execution_count": 19,
   "id": "0c05fcb1-b5b2-4af6-b3f7-5cff20d41e5d",
   "metadata": {},
   "outputs": [
    {
     "data": {
      "text/plain": [
       "[(0, 'key', 'VARCHAR(250)', 1, None, 1),\n",
       " (1, 'value', 'FLOAT', 1, None, 5),\n",
       " (2, 'timestamp', 'BIGINT', 1, None, 2),\n",
       " (3, 'run_uuid', 'VARCHAR(32)', 1, None, 4),\n",
       " (4, 'step', 'BIGINT', 1, \"'0'\", 3),\n",
       " (5, 'is_nan', 'BOOLEAN', 1, \"'0'\", 6)]"
      ]
     },
     "execution_count": 19,
     "metadata": {},
     "output_type": "execute_result"
    }
   ],
   "source": [
    "# table structure\n",
    "query = \"\"\"\n",
    "PRAGMA table_info('metrics')\n",
    "\"\"\"\n",
    "result = c.execute(query)\n",
    "result.fetchall()"
   ]
  },
  {
   "cell_type": "code",
   "execution_count": 20,
   "id": "b579d1cc-00ea-46ca-b206-9a438132ce22",
   "metadata": {},
   "outputs": [
    {
     "data": {
      "text/plain": [
       "[('training_mean_squared_error',\n",
       "  1362.2927408171518,\n",
       "  1704441365061,\n",
       "  '4e5d585615ad4832bbaf3eeb3c9989ef',\n",
       "  0,\n",
       "  0),\n",
       " ('training_mean_absolute_error',\n",
       "  30.825004251359697,\n",
       "  1704441365061,\n",
       "  '4e5d585615ad4832bbaf3eeb3c9989ef',\n",
       "  0,\n",
       "  0),\n",
       " ('training_r2_score',\n",
       "  0.7761959125801277,\n",
       "  1704441365061,\n",
       "  '4e5d585615ad4832bbaf3eeb3c9989ef',\n",
       "  0,\n",
       "  0),\n",
       " ('training_root_mean_squared_error',\n",
       "  36.9092500711834,\n",
       "  1704441365061,\n",
       "  '4e5d585615ad4832bbaf3eeb3c9989ef',\n",
       "  0,\n",
       "  0),\n",
       " ('training_score',\n",
       "  0.7761959125801277,\n",
       "  1704441365097,\n",
       "  '4e5d585615ad4832bbaf3eeb3c9989ef',\n",
       "  0,\n",
       "  0),\n",
       " ('accuracy', 1.0, 1704679600256, '68df3105fe12435fa339f4bcbc62b355', 0, 0)]"
      ]
     },
     "execution_count": 20,
     "metadata": {},
     "output_type": "execute_result"
    }
   ],
   "source": [
    "query = \"\"\"\n",
    "SELECT * \n",
    "FROM metrics\n",
    "\"\"\"\n",
    "result = c.execute(query)\n",
    "result.fetchall()"
   ]
  },
  {
   "cell_type": "markdown",
   "id": "dbcc1ee9-fcaa-40bf-be68-b6c2a8b1f8bd",
   "metadata": {
    "jp-MarkdownHeadingCollapsed": true
   },
   "source": [
    "#### params"
   ]
  },
  {
   "cell_type": "code",
   "execution_count": 21,
   "id": "c7fad4aa-5b0c-476c-84bc-a641ff71895b",
   "metadata": {},
   "outputs": [
    {
     "data": {
      "text/plain": [
       "[(0, 'key', 'VARCHAR(250)', 1, None, 1),\n",
       " (1, 'value', 'VARCHAR(500)', 1, None, 0),\n",
       " (2, 'run_uuid', 'VARCHAR(32)', 1, None, 2)]"
      ]
     },
     "execution_count": 21,
     "metadata": {},
     "output_type": "execute_result"
    }
   ],
   "source": [
    "# table structure\n",
    "query = \"\"\"\n",
    "PRAGMA table_info('params')\n",
    "\"\"\"\n",
    "result = c.execute(query)\n",
    "result.fetchall()"
   ]
  },
  {
   "cell_type": "code",
   "execution_count": 22,
   "id": "bebeab46-b158-4272-b060-716f7d50fa29",
   "metadata": {},
   "outputs": [
    {
     "data": {
      "text/plain": [
       "[('bootstrap', 'True', '4e5d585615ad4832bbaf3eeb3c9989ef'),\n",
       " ('ccp_alpha', '0.0', '4e5d585615ad4832bbaf3eeb3c9989ef'),\n",
       " ('criterion', 'squared_error', '4e5d585615ad4832bbaf3eeb3c9989ef'),\n",
       " ('max_depth', '6', '4e5d585615ad4832bbaf3eeb3c9989ef'),\n",
       " ('max_features', '3', '4e5d585615ad4832bbaf3eeb3c9989ef'),\n",
       " ('max_leaf_nodes', 'None', '4e5d585615ad4832bbaf3eeb3c9989ef'),\n",
       " ('max_samples', 'None', '4e5d585615ad4832bbaf3eeb3c9989ef'),\n",
       " ('min_impurity_decrease', '0.0', '4e5d585615ad4832bbaf3eeb3c9989ef'),\n",
       " ('min_samples_leaf', '1', '4e5d585615ad4832bbaf3eeb3c9989ef'),\n",
       " ('min_samples_split', '2', '4e5d585615ad4832bbaf3eeb3c9989ef'),\n",
       " ('min_weight_fraction_leaf', '0.0', '4e5d585615ad4832bbaf3eeb3c9989ef'),\n",
       " ('n_estimators', '100', '4e5d585615ad4832bbaf3eeb3c9989ef'),\n",
       " ('n_jobs', 'None', '4e5d585615ad4832bbaf3eeb3c9989ef'),\n",
       " ('oob_score', 'False', '4e5d585615ad4832bbaf3eeb3c9989ef'),\n",
       " ('random_state', 'None', '4e5d585615ad4832bbaf3eeb3c9989ef'),\n",
       " ('verbose', '0', '4e5d585615ad4832bbaf3eeb3c9989ef'),\n",
       " ('warm_start', 'False', '4e5d585615ad4832bbaf3eeb3c9989ef'),\n",
       " ('solver', 'lbfgs', '68df3105fe12435fa339f4bcbc62b355'),\n",
       " ('max_iter', '1000', '68df3105fe12435fa339f4bcbc62b355'),\n",
       " ('multi_class', 'auto', '68df3105fe12435fa339f4bcbc62b355'),\n",
       " ('random_state', '8888', '68df3105fe12435fa339f4bcbc62b355')]"
      ]
     },
     "execution_count": 22,
     "metadata": {},
     "output_type": "execute_result"
    }
   ],
   "source": [
    "query = \"\"\"\n",
    "SELECT * \n",
    "FROM params\n",
    "\"\"\"\n",
    "result = c.execute(query)\n",
    "result.fetchall()"
   ]
  },
  {
   "cell_type": "markdown",
   "id": "59ad4e9e-c4ea-4441-a295-de71c1ec6cd4",
   "metadata": {
    "jp-MarkdownHeadingCollapsed": true
   },
   "source": [
    "#### registered_model_aliases"
   ]
  },
  {
   "cell_type": "code",
   "execution_count": 23,
   "id": "d42bf290-46c9-4278-b94c-c607b24784f3",
   "metadata": {},
   "outputs": [
    {
     "data": {
      "text/plain": [
       "[(0, 'alias', 'VARCHAR(256)', 1, None, 2),\n",
       " (1, 'version', 'INTEGER', 1, None, 0),\n",
       " (2, 'name', 'VARCHAR(256)', 1, None, 1)]"
      ]
     },
     "execution_count": 23,
     "metadata": {},
     "output_type": "execute_result"
    }
   ],
   "source": [
    "# table structure\n",
    "query = \"\"\"\n",
    "PRAGMA table_info('registered_model_aliases')\n",
    "\"\"\"\n",
    "result = c.execute(query)\n",
    "result.fetchall()"
   ]
  },
  {
   "cell_type": "code",
   "execution_count": 24,
   "id": "ceb08cc2-baa8-430a-900c-3ac1065d2891",
   "metadata": {},
   "outputs": [
    {
     "data": {
      "text/plain": [
       "[]"
      ]
     },
     "execution_count": 24,
     "metadata": {},
     "output_type": "execute_result"
    }
   ],
   "source": [
    "query = \"\"\"\n",
    "SELECT * \n",
    "FROM registered_model_aliases\n",
    "\"\"\"\n",
    "result = c.execute(query)\n",
    "result.fetchall()"
   ]
  },
  {
   "cell_type": "markdown",
   "id": "678776ab-46fd-483e-8140-3c61777915dd",
   "metadata": {
    "jp-MarkdownHeadingCollapsed": true
   },
   "source": [
    "#### datasets"
   ]
  },
  {
   "cell_type": "code",
   "execution_count": 25,
   "id": "505c623f-a16e-454b-b123-8bdb8f55067b",
   "metadata": {},
   "outputs": [
    {
     "data": {
      "text/plain": [
       "[(0, 'dataset_uuid', 'VARCHAR(36)', 1, None, 0),\n",
       " (1, 'experiment_id', 'INTEGER', 1, None, 1),\n",
       " (2, 'name', 'VARCHAR(500)', 1, None, 2),\n",
       " (3, 'digest', 'VARCHAR(36)', 1, None, 3),\n",
       " (4, 'dataset_source_type', 'VARCHAR(36)', 1, None, 0),\n",
       " (5, 'dataset_source', 'TEXT', 1, None, 0),\n",
       " (6, 'dataset_schema', 'TEXT', 0, None, 0),\n",
       " (7, 'dataset_profile', 'TEXT', 0, None, 0)]"
      ]
     },
     "execution_count": 25,
     "metadata": {},
     "output_type": "execute_result"
    }
   ],
   "source": [
    "# table structure\n",
    "query = \"\"\"\n",
    "PRAGMA table_info('datasets')\n",
    "\"\"\"\n",
    "result = c.execute(query)\n",
    "result.fetchall()"
   ]
  },
  {
   "cell_type": "code",
   "execution_count": 26,
   "id": "a83b69fd-b738-4968-a049-5339c8fe27ef",
   "metadata": {},
   "outputs": [
    {
     "data": {
      "text/plain": [
       "[('8e18e687d0f34586b32d714a86c6599a',\n",
       "  0,\n",
       "  'dataset',\n",
       "  '545f01ac',\n",
       "  'code',\n",
       "  '{\"tags\": {\"mlflow.user\": \"carnot\", \"mlflow.source.name\": \"C:\\\\\\\\Users\\\\\\\\carnot\\\\\\\\anaconda3\\\\\\\\envs\\\\\\\\mlflow_testing\\\\\\\\Lib\\\\\\\\site-packages\\\\\\\\ipykernel_launcher.py\", \"mlflow.source.type\": \"LOCAL\"}}',\n",
       "  '{\"mlflow_tensorspec\": {\"features\": \"[{\\\\\"type\\\\\": \\\\\"tensor\\\\\", \\\\\"tensor-spec\\\\\": {\\\\\"dtype\\\\\": \\\\\"float64\\\\\", \\\\\"shape\\\\\": [-1, 10]}}]\", \"targets\": \"[{\\\\\"type\\\\\": \\\\\"tensor\\\\\", \\\\\"tensor-spec\\\\\": {\\\\\"dtype\\\\\": \\\\\"float64\\\\\", \\\\\"shape\\\\\": [-1]}}]\"}}',\n",
       "  '{\"features_shape\": [331, 10], \"features_size\": 3310, \"features_nbytes\": 26480, \"targets_shape\": [331], \"targets_size\": 331, \"targets_nbytes\": 2648}'),\n",
       " ('06e9e1f627754b7fa48effe413877005',\n",
       "  0,\n",
       "  'dataset',\n",
       "  'c8552247',\n",
       "  'code',\n",
       "  '{\"tags\": {\"mlflow.user\": \"carnot\", \"mlflow.source.name\": \"C:\\\\\\\\Users\\\\\\\\carnot\\\\\\\\anaconda3\\\\\\\\envs\\\\\\\\mlflow_testing\\\\\\\\Lib\\\\\\\\site-packages\\\\\\\\ipykernel_launcher.py\", \"mlflow.source.type\": \"LOCAL\"}}',\n",
       "  '{\"mlflow_tensorspec\": {\"features\": \"[{\\\\\"type\\\\\": \\\\\"tensor\\\\\", \\\\\"tensor-spec\\\\\": {\\\\\"dtype\\\\\": \\\\\"float64\\\\\", \\\\\"shape\\\\\": [-1, 10]}}]\", \"targets\": null}}',\n",
       "  '{\"features_shape\": [111, 10], \"features_size\": 1110, \"features_nbytes\": 8880}')]"
      ]
     },
     "execution_count": 26,
     "metadata": {},
     "output_type": "execute_result"
    }
   ],
   "source": [
    "query = \"\"\"\n",
    "SELECT * \n",
    "FROM datasets\n",
    "\"\"\"\n",
    "result = c.execute(query)\n",
    "result.fetchall()"
   ]
  },
  {
   "cell_type": "markdown",
   "id": "934bc149-53aa-4f2a-8cca-5c7e11839afa",
   "metadata": {
    "jp-MarkdownHeadingCollapsed": true
   },
   "source": [
    "#### inputs"
   ]
  },
  {
   "cell_type": "code",
   "execution_count": 27,
   "id": "110b353c-ab7b-497d-a14b-e1f67290a99a",
   "metadata": {},
   "outputs": [
    {
     "data": {
      "text/plain": [
       "[(0, 'input_uuid', 'VARCHAR(36)', 1, None, 0),\n",
       " (1, 'source_type', 'VARCHAR(36)', 1, None, 1),\n",
       " (2, 'source_id', 'VARCHAR(36)', 1, None, 2),\n",
       " (3, 'destination_type', 'VARCHAR(36)', 1, None, 3),\n",
       " (4, 'destination_id', 'VARCHAR(36)', 1, None, 4)]"
      ]
     },
     "execution_count": 27,
     "metadata": {},
     "output_type": "execute_result"
    }
   ],
   "source": [
    "# table structure\n",
    "query = \"\"\"\n",
    "PRAGMA table_info('inputs')\n",
    "\"\"\"\n",
    "result = c.execute(query)\n",
    "result.fetchall()"
   ]
  },
  {
   "cell_type": "code",
   "execution_count": 29,
   "id": "700067bc-0317-4207-af3f-b1bd95e46561",
   "metadata": {},
   "outputs": [
    {
     "data": {
      "text/plain": [
       "[('1aec66dfa9a94664aec349f1f83db243',\n",
       "  'DATASET',\n",
       "  '8e18e687d0f34586b32d714a86c6599a',\n",
       "  'RUN',\n",
       "  '4e5d585615ad4832bbaf3eeb3c9989ef'),\n",
       " ('93e1e3ed720f42448fde183ffe0cb147',\n",
       "  'DATASET',\n",
       "  '06e9e1f627754b7fa48effe413877005',\n",
       "  'RUN',\n",
       "  '4e5d585615ad4832bbaf3eeb3c9989ef')]"
      ]
     },
     "execution_count": 29,
     "metadata": {},
     "output_type": "execute_result"
    }
   ],
   "source": [
    "query = \"\"\"\n",
    "SELECT * \n",
    "FROM inputs\n",
    "\"\"\"\n",
    "result = c.execute(query)\n",
    "result.fetchall()"
   ]
  },
  {
   "cell_type": "markdown",
   "id": "25a7635c-d74b-4ffc-ac9e-9b6b9dc00cbc",
   "metadata": {
    "jp-MarkdownHeadingCollapsed": true
   },
   "source": [
    "#### input_tags"
   ]
  },
  {
   "cell_type": "code",
   "execution_count": 31,
   "id": "b13ca877-5580-4a57-9297-fc3b8aec56a8",
   "metadata": {},
   "outputs": [
    {
     "data": {
      "text/plain": [
       "[(0, 'input_uuid', 'VARCHAR(36)', 1, None, 1),\n",
       " (1, 'name', 'VARCHAR(255)', 1, None, 2),\n",
       " (2, 'value', 'VARCHAR(500)', 1, None, 0)]"
      ]
     },
     "execution_count": 31,
     "metadata": {},
     "output_type": "execute_result"
    }
   ],
   "source": [
    "# table structure\n",
    "query = \"\"\"\n",
    "PRAGMA table_info('input_tags')\n",
    "\"\"\"\n",
    "result = c.execute(query)\n",
    "result.fetchall()"
   ]
  },
  {
   "cell_type": "code",
   "execution_count": 30,
   "id": "b2f279c2-3579-46e1-868e-87bee26db9aa",
   "metadata": {},
   "outputs": [
    {
     "data": {
      "text/plain": [
       "[('1aec66dfa9a94664aec349f1f83db243', 'mlflow.data.context', 'train'),\n",
       " ('93e1e3ed720f42448fde183ffe0cb147', 'mlflow.data.context', 'eval')]"
      ]
     },
     "execution_count": 30,
     "metadata": {},
     "output_type": "execute_result"
    }
   ],
   "source": [
    "query = \"\"\"\n",
    "SELECT * \n",
    "FROM input_tags\n",
    "\"\"\"\n",
    "result = c.execute(query)\n",
    "result.fetchall()"
   ]
  },
  {
   "cell_type": "markdown",
   "id": "eb7f4f88-4420-493a-ad96-3b09e3fe8f46",
   "metadata": {
    "jp-MarkdownHeadingCollapsed": true
   },
   "source": [
    "#### tags"
   ]
  },
  {
   "cell_type": "code",
   "execution_count": 8,
   "id": "cd6f0e58-5286-4d1c-a364-29406218ee21",
   "metadata": {},
   "outputs": [
    {
     "data": {
      "text/plain": [
       "[(0, 'key', 'VARCHAR(250)', 1, None, 1),\n",
       " (1, 'value', 'VARCHAR(5000)', 0, None, 0),\n",
       " (2, 'run_uuid', 'VARCHAR(32)', 1, None, 2)]"
      ]
     },
     "execution_count": 8,
     "metadata": {},
     "output_type": "execute_result"
    }
   ],
   "source": [
    "# table structure\n",
    "query = \"\"\"\n",
    "PRAGMA table_info('tags')\n",
    "\"\"\"\n",
    "result = c.execute(query)\n",
    "result.fetchall()"
   ]
  },
  {
   "cell_type": "code",
   "execution_count": 23,
   "id": "ed9fe79c-9e34-49f1-bca0-e4734a4de6d5",
   "metadata": {
    "scrolled": true
   },
   "outputs": [
    {
     "data": {
      "text/plain": [
       "[('mlflow.user', 'carnot', '4e5d585615ad4832bbaf3eeb3c9989ef'),\n",
       " ('mlflow.source.name',\n",
       "  'C:\\\\Users\\\\carnot\\\\anaconda3\\\\envs\\\\mlflow_testing\\\\Lib\\\\site-packages\\\\ipykernel_launcher.py',\n",
       "  '4e5d585615ad4832bbaf3eeb3c9989ef'),\n",
       " ('mlflow.source.type', 'LOCAL', '4e5d585615ad4832bbaf3eeb3c9989ef'),\n",
       " ('mlflow.autologging', 'sklearn', '4e5d585615ad4832bbaf3eeb3c9989ef'),\n",
       " ('mlflow.runName', 'handsome-shoat-904', '4e5d585615ad4832bbaf3eeb3c9989ef'),\n",
       " ('estimator_name',\n",
       "  'RandomForestRegressor',\n",
       "  '4e5d585615ad4832bbaf3eeb3c9989ef'),\n",
       " ('estimator_class',\n",
       "  'sklearn.ensemble._forest.RandomForestRegressor',\n",
       "  '4e5d585615ad4832bbaf3eeb3c9989ef'),\n",
       " ('mlflow.log-model.history',\n",
       "  '[{\"run_id\": \"4e5d585615ad4832bbaf3eeb3c9989ef\", \"artifact_path\": \"model\", \"utc_time_created\": \"2024-01-05 07:56:05.165272\", \"flavors\": {\"python_function\": {\"model_path\": \"model.pkl\", \"predict_fn\": \"predict\", \"loader_module\": \"mlflow.sklearn\", \"python_version\": \"3.11.5\", \"env\": {\"conda\": \"conda.yaml\", \"virtualenv\": \"python_env.yaml\"}}, \"sklearn\": {\"pickled_model\": \"model.pkl\", \"sklearn_version\": \"1.2.2\", \"serialization_format\": \"cloudpickle\", \"code\": null}}, \"model_uuid\": \"72cd50db7107458aa73c12c594f9ecd2\", \"mlflow_version\": \"2.6.0\", \"signature\": {\"inputs\": \"[{\\\\\"type\\\\\": \\\\\"tensor\\\\\", \\\\\"tensor-spec\\\\\": {\\\\\"dtype\\\\\": \\\\\"float64\\\\\", \\\\\"shape\\\\\": [-1, 10]}}]\", \"outputs\": \"[{\\\\\"type\\\\\": \\\\\"tensor\\\\\", \\\\\"tensor-spec\\\\\": {\\\\\"dtype\\\\\": \\\\\"float64\\\\\", \\\\\"shape\\\\\": [-1]}}]\", \"params\": null}}]',\n",
       "  '4e5d585615ad4832bbaf3eeb3c9989ef'),\n",
       " ('mlflow.user', 'carnot', '68df3105fe12435fa339f4bcbc62b355'),\n",
       " ('mlflow.source.name',\n",
       "  'C:\\\\Users\\\\carnot\\\\anaconda3\\\\envs\\\\mlflow_testing\\\\Lib\\\\site-packages\\\\ipykernel_launcher.py',\n",
       "  '68df3105fe12435fa339f4bcbc62b355'),\n",
       " ('mlflow.source.type', 'LOCAL', '68df3105fe12435fa339f4bcbc62b355'),\n",
       " ('mlflow.runName', 'abcde', '68df3105fe12435fa339f4bcbc62b355'),\n",
       " ('Training Info',\n",
       "  'Basic LR model for iris data',\n",
       "  '68df3105fe12435fa339f4bcbc62b355'),\n",
       " ('mlflow.log-model.history',\n",
       "  '[{\"run_id\": \"68df3105fe12435fa339f4bcbc62b355\", \"artifact_path\": \"iris_model\", \"utc_time_created\": \"2024-01-08 02:06:40.293193\", \"flavors\": {\"python_function\": {\"model_path\": \"model.pkl\", \"predict_fn\": \"predict\", \"loader_module\": \"mlflow.sklearn\", \"python_version\": \"3.11.5\", \"env\": {\"conda\": \"conda.yaml\", \"virtualenv\": \"python_env.yaml\"}}, \"sklearn\": {\"pickled_model\": \"model.pkl\", \"sklearn_version\": \"1.2.2\", \"serialization_format\": \"cloudpickle\", \"code\": null}}, \"model_uuid\": \"b209c2d6e4f64cf39160aa965578a14c\", \"mlflow_version\": \"2.6.0\", \"signature\": {\"inputs\": \"[{\\\\\"type\\\\\": \\\\\"tensor\\\\\", \\\\\"tensor-spec\\\\\": {\\\\\"dtype\\\\\": \\\\\"float64\\\\\", \\\\\"shape\\\\\": [-1, 4]}}]\", \"outputs\": \"[{\\\\\"type\\\\\": \\\\\"tensor\\\\\", \\\\\"tensor-spec\\\\\": {\\\\\"dtype\\\\\": \\\\\"int32\\\\\", \\\\\"shape\\\\\": [-1]}}]\", \"params\": null}, \"saved_input_example_info\": {\"artifact_path\": \"input_example.json\", \"type\": \"ndarray\", \"format\": \"tf-serving\"}}]',\n",
       "  '68df3105fe12435fa339f4bcbc62b355')]"
      ]
     },
     "execution_count": 23,
     "metadata": {},
     "output_type": "execute_result"
    }
   ],
   "source": [
    "query = \"\"\"\n",
    "SELECT * \n",
    "FROM tags\n",
    "\"\"\"\n",
    "result = c.execute(query)\n",
    "result.fetchall()"
   ]
  },
  {
   "cell_type": "markdown",
   "id": "2b4ed657-c6cd-41b8-bf94-e0cc5f9fa20f",
   "metadata": {
    "jp-MarkdownHeadingCollapsed": true
   },
   "source": [
    "#### registered_model_tags"
   ]
  },
  {
   "cell_type": "code",
   "execution_count": 10,
   "id": "b8eddd9d-f32f-437e-93dd-75e0a7e8aa95",
   "metadata": {},
   "outputs": [
    {
     "data": {
      "text/plain": [
       "[(0, 'key', 'VARCHAR(250)', 1, None, 1),\n",
       " (1, 'value', 'VARCHAR(5000)', 0, None, 0),\n",
       " (2, 'name', 'VARCHAR(256)', 1, None, 2)]"
      ]
     },
     "execution_count": 10,
     "metadata": {},
     "output_type": "execute_result"
    }
   ],
   "source": [
    "# table structure\n",
    "query = \"\"\"\n",
    "PRAGMA table_info('registered_model_tags')\n",
    "\"\"\"\n",
    "result = c.execute(query)\n",
    "result.fetchall()"
   ]
  },
  {
   "cell_type": "code",
   "execution_count": 12,
   "id": "4974068a-16b3-4b73-b917-f933a2bd40f9",
   "metadata": {},
   "outputs": [
    {
     "data": {
      "text/plain": [
       "[]"
      ]
     },
     "execution_count": 12,
     "metadata": {},
     "output_type": "execute_result"
    }
   ],
   "source": [
    "query = \"\"\"\n",
    "SELECT * \n",
    "FROM registered_model_tags\n",
    "\"\"\"\n",
    "result = c.execute(query)\n",
    "result.fetchall()"
   ]
  },
  {
   "cell_type": "markdown",
   "id": "9a302ac0-086b-440c-a016-2bd0efb706a1",
   "metadata": {
    "jp-MarkdownHeadingCollapsed": true
   },
   "source": [
    "#### experiment_tags"
   ]
  },
  {
   "cell_type": "code",
   "execution_count": 6,
   "id": "1d09c0dd-0561-4571-8187-798a79dbbb93",
   "metadata": {},
   "outputs": [
    {
     "data": {
      "text/plain": [
       "[(0, 'key', 'VARCHAR(250)', 1, None, 1),\n",
       " (1, 'value', 'VARCHAR(5000)', 0, None, 0),\n",
       " (2, 'experiment_id', 'INTEGER', 1, None, 2)]"
      ]
     },
     "execution_count": 6,
     "metadata": {},
     "output_type": "execute_result"
    }
   ],
   "source": [
    "# table structure\n",
    "query = \"\"\"\n",
    "PRAGMA table_info('experiment_tags')\n",
    "\"\"\"\n",
    "result = c.execute(query)\n",
    "result.fetchall()"
   ]
  },
  {
   "cell_type": "code",
   "execution_count": 7,
   "id": "9f41afbf-f4d6-4ec8-bf22-8bbcd00b47da",
   "metadata": {},
   "outputs": [
    {
     "data": {
      "text/plain": [
       "[]"
      ]
     },
     "execution_count": 7,
     "metadata": {},
     "output_type": "execute_result"
    }
   ],
   "source": [
    "query = \"\"\"\n",
    "SELECT * \n",
    "FROM experiment_tags\n",
    "\"\"\"\n",
    "result = c.execute(query)\n",
    "result.fetchall()"
   ]
  },
  {
   "cell_type": "markdown",
   "id": "899f5dd2-19b6-46c8-9a35-333e837b1e3d",
   "metadata": {
    "jp-MarkdownHeadingCollapsed": true
   },
   "source": [
    "#### model_version_tags"
   ]
  },
  {
   "cell_type": "code",
   "execution_count": 13,
   "id": "055e787f-46bf-40a4-acb7-66556532afe4",
   "metadata": {},
   "outputs": [
    {
     "data": {
      "text/plain": [
       "[(0, 'key', 'VARCHAR(250)', 1, None, 1),\n",
       " (1, 'value', 'VARCHAR(5000)', 0, None, 0),\n",
       " (2, 'name', 'VARCHAR(256)', 1, None, 2),\n",
       " (3, 'version', 'INTEGER', 1, None, 3)]"
      ]
     },
     "execution_count": 13,
     "metadata": {},
     "output_type": "execute_result"
    }
   ],
   "source": [
    "# table structure\n",
    "query = \"\"\"\n",
    "PRAGMA table_info('model_version_tags')\n",
    "\"\"\"\n",
    "result = c.execute(query)\n",
    "result.fetchall()"
   ]
  },
  {
   "cell_type": "code",
   "execution_count": 14,
   "id": "92ae1f8a-330d-4fe3-af3a-944da36d51f6",
   "metadata": {},
   "outputs": [
    {
     "data": {
      "text/plain": [
       "[]"
      ]
     },
     "execution_count": 14,
     "metadata": {},
     "output_type": "execute_result"
    }
   ],
   "source": [
    "query = \"\"\"\n",
    "SELECT * \n",
    "FROM model_version_tags\n",
    "\"\"\"\n",
    "result = c.execute(query)\n",
    "result.fetchall()"
   ]
  },
  {
   "cell_type": "markdown",
   "id": "1bc84f60-44c8-48cd-8834-8a69dd29df04",
   "metadata": {
    "jp-MarkdownHeadingCollapsed": true
   },
   "source": [
    "#### alembic_version"
   ]
  },
  {
   "cell_type": "code",
   "execution_count": 9,
   "id": "19dea52d-deb8-4ea1-bec8-a225750aa481",
   "metadata": {},
   "outputs": [
    {
     "data": {
      "text/plain": [
       "[(0, 'version_num', 'VARCHAR(32)', 1, None, 1)]"
      ]
     },
     "execution_count": 9,
     "metadata": {},
     "output_type": "execute_result"
    }
   ],
   "source": [
    "# table structure\n",
    "query = \"\"\"\n",
    "PRAGMA table_info('alembic_version')\n",
    "\"\"\"\n",
    "result = c.execute(query)\n",
    "result.fetchall()"
   ]
  },
  {
   "cell_type": "code",
   "execution_count": 21,
   "id": "0b603612-4d5c-4d14-8bcd-2c20b48a8998",
   "metadata": {},
   "outputs": [
    {
     "data": {
      "text/plain": [
       "[('7f2a7d5fae7d',)]"
      ]
     },
     "execution_count": 21,
     "metadata": {},
     "output_type": "execute_result"
    }
   ],
   "source": [
    "query = \"\"\"\n",
    "SELECT * \n",
    "FROM alembic_version\n",
    "\"\"\"\n",
    "result = c.execute(query)\n",
    "result.fetchall()"
   ]
  },
  {
   "cell_type": "markdown",
   "id": "414bd967-c19c-4895-8d0c-3685eb1e748a",
   "metadata": {},
   "source": [
    "### Accessing the models\n",
    "\n",
    "Noted that to load model with database is exact same as you would do in running locally or with other methods\n",
    "\n",
    "**Three ways demonstrated here**\n",
    "1. Load model\n",
    "2. Model serving\n",
    "3. Docker container"
   ]
  },
  {
   "cell_type": "markdown",
   "id": "cc4b07dd-1cdb-49db-a95c-240b71d632a3",
   "metadata": {},
   "source": [
    "#### 1. Load model with API"
   ]
  },
  {
   "cell_type": "code",
   "execution_count": 6,
   "id": "52c53add-c665-4b1a-a133-b842009e7366",
   "metadata": {},
   "outputs": [
    {
     "data": {
      "text/plain": [
       "[('iris_model',)]"
      ]
     },
     "execution_count": 6,
     "metadata": {},
     "output_type": "execute_result"
    }
   ],
   "source": [
    "query = \"\"\"\n",
    "SELECT name\n",
    "FROM registered_models\n",
    "\"\"\"\n",
    "result = c.execute(query)\n",
    "result.fetchall()"
   ]
  },
  {
   "cell_type": "code",
   "execution_count": 7,
   "id": "94831598-024e-4dae-9401-6cf8d6f34236",
   "metadata": {},
   "outputs": [],
   "source": [
    "model_uri = \"models:/iris_model/1\"\n",
    "loaded_model = mlflow.pyfunc.load_model(model_uri)"
   ]
  },
  {
   "cell_type": "code",
   "execution_count": 9,
   "id": "b4a7008a-0546-46a9-9857-ff32847ac164",
   "metadata": {},
   "outputs": [
    {
     "data": {
      "text/plain": [
       "array([1, 0, 2, 1, 1, 0, 1, 2, 1, 1, 2, 0, 0, 0, 0, 1, 2, 1, 1, 2, 0, 2,\n",
       "       0, 2, 2, 2, 2, 2, 0, 0])"
      ]
     },
     "execution_count": 9,
     "metadata": {},
     "output_type": "execute_result"
    }
   ],
   "source": [
    "loaded_model.predict(X_test)"
   ]
  },
  {
   "cell_type": "markdown",
   "id": "78c10d37-c1ab-45cd-a3eb-4e9d096766cf",
   "metadata": {},
   "source": [
    "#### 2. Model serving"
   ]
  },
  {
   "cell_type": "markdown",
   "id": "1e948aea-57a5-4ccf-8085-c1cbd4c5b372",
   "metadata": {},
   "source": [
    "**set up connection to mlflow in CLI if you haven't**\n",
    "\n",
    "`export MLFLOW_TRACKING_URI=sqlite:///mlruns.db` This line set up connection with mlflow\n",
    "\n",
    "`$env:MLFLOW_TRACKING_URI=\"sqlite:///mlruns.db\"` (if you are using windows)\n",
    "\n",
    "**serve the model on CLI**\n",
    "\n",
    "`mlflow models serve -m \"models:/iris_model/1\" --port 5002`\n",
    "\n",
    "**To use the model to make predictions, you can use the `curl` command**\n",
    "\n",
    "`curl http://127.0.0.1:5002/invocations -H 'Content-Type: application/json' -d '{\n",
    "  \"dataframe_split\": {\n",
    "      \"data\": [[6.1, 2.8, 4.7, 1.2], [5.7, 3.8, 1.7, 0.3]]\n",
    "  }\n",
    "}'`\n",
    "\n",
    "More about the curl command: https://mlflow.org/docs/latest/models.html#local-model-deployment"
   ]
  },
  {
   "cell_type": "code",
   "execution_count": null,
   "id": "97cc19f8-117b-4ca7-8279-26ba1ea966dd",
   "metadata": {},
   "outputs": [],
   "source": [
    "import requests\n",
    "\n",
    "endpoint = \"http://localhost:5002/invocations\" # make sure the port number matches the one you input in terminal\n",
    "data = {\n",
    "    \"dataframe_split\": {  \n",
    "        \"data\": [[6.1, 2.8, 4.7, 1.2], [5.7, 3.8, 1.7, 0.3]]   \n",
    "    }\n",
    "}\n",
    "# do a post request\n",
    "response = requests.post(endpoint, json=data)\n",
    "print(response.json())"
   ]
  },
  {
   "cell_type": "markdown",
   "id": "df1e625c-0b27-4848-928d-660c89d6cb21",
   "metadata": {},
   "source": [
    "#### 3. Docker"
   ]
  },
  {
   "cell_type": "markdown",
   "id": "a4700606-7536-4241-bc3d-f4f95323091b",
   "metadata": {},
   "source": [
    "(noted that you will need docker installed on your computer to use this feature https://www.docker.com/products/docker-desktop/)\n",
    "\n",
    "\n",
    "**Instead of using serve to run the model, you can build a docker image instead** \n",
    "\n",
    "`mlflow models build-docker --model-uri \"models:/iris_model/1\" --name \"iris\"` This line build the docker image\n",
    "\n",
    "`docker run -p 5002:8080 iris` Run the docker container on the respective port\n",
    "\n",
    "**To use the model, you can use the exact same command as you do in model serving**\n",
    "\n",
    "`curl http://127.0.0.1:8080/invocations -H 'Content-Type: application/json' -d '{\"dataframe_split\": {\"data\": [[6.1, 2.8, 4.7, 1.2], [5.7, 3.8, 1.7, 0.3]]}}'`"
   ]
  }
 ],
 "metadata": {
  "kernelspec": {
   "display_name": "Python 3 (ipykernel)",
   "language": "python",
   "name": "python3"
  },
  "language_info": {
   "codemirror_mode": {
    "name": "ipython",
    "version": 3
   },
   "file_extension": ".py",
   "mimetype": "text/x-python",
   "name": "python",
   "nbconvert_exporter": "python",
   "pygments_lexer": "ipython3",
   "version": "3.11.5"
  }
 },
 "nbformat": 4,
 "nbformat_minor": 5
}
