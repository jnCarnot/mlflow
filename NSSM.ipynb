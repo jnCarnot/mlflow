{
 "cells": [
  {
   "cell_type": "markdown",
   "id": "32c67245-5703-4512-ae7b-2bbb0c7022f6",
   "metadata": {},
   "source": [
    "# **NSSM Overview**"
   ]
  },
  {
   "cell_type": "markdown",
   "id": "a74cdedd-18ad-48a6-aa3f-8ea6a0714f0e",
   "metadata": {},
   "source": [
    "Non-Sucking Service Manager (NSSM) is a service helper program that assists in installing an application as a service, monitoring the application's state and handling failures as it runs. This technology logs its progress to the system Event Log so users can understand why an application isn`t behaving normally."
   ]
  },
  {
   "cell_type": "markdown",
   "id": "8ff38fc3-6e90-4aed-aa56-0a1b7711ee72",
   "metadata": {},
   "source": [
    "## **1. Installation**\n",
    "\n",
    "Visit https://nssm.cc/download to download the latest version\n",
    "\n",
    "Once install you can extract it to your C:\\ directory and create a new folder call 'nssm', or whereever you want to store it\n",
    "\n",
    "Noted that you can add the path to the nssm.exe to the $PATH environment variable so that you can more conveniently call nssm.exe in command prompt\n",
    "\n",
    "1. Search for 'edit the system environment varibale' on your window\n",
    "2. Click on 'environment variable' on bottom right\n",
    "3. On the lower scroll screen (system variable), choose the option 'Path'\n",
    "4. Add the directory that stores the nssm.exe to the path variable and hit ok\n",
    "\n",
    "![](statics/nssm_env.png)"
   ]
  },
  {
   "cell_type": "markdown",
   "id": "e9d312dd-0be8-4659-a613-b466f3dea220",
   "metadata": {},
   "source": [
    "## **2. Run the service**"
   ]
  },
  {
   "cell_type": "markdown",
   "id": "72c76e30-e42f-4bfe-8a64-550dd6020fab",
   "metadata": {},
   "source": [
    "Assuming you already have a desire bash/exe file that you want to run as a service, one can simply run the .bat/.exe as a service by this command\n",
    "\n",
    "`nssm.exe install <service name> \"<path to the bash/exe file>\"`\n",
    "\n",
    "Alternatively, one can omit the path to bath file and set it up manually with the NSSM GUI by calling `call nssm.exe install <service name>` then press the ... to add the path of the bash/exe file through the GUI.\n",
    "\n",
    "To check the status of service, run `nssm status <service name>`\n",
    "\n",
    "To start the service, run `nssm start <service name>`\n",
    "\n",
    "Alternatively, you can do, `sc start <service name>`"
   ]
  },
  {
   "cell_type": "markdown",
   "id": "ff1e4b1e-1b7b-4767-91ae-12ff0890d3ab",
   "metadata": {},
   "source": [
    "## **3. Edit Properties/Monitor Service**"
   ]
  },
  {
   "cell_type": "markdown",
   "id": "bc36c1fa-b6ce-4f1e-aed7-168976eed5c5",
   "metadata": {},
   "source": [
    "Although you can set each property of the service with NSSM through command prompt with command `nssm set <service name> <property> <value>`, it is much easier to do it with the GUI offered by NSSM,\n",
    "\n",
    "`nssm edit <service name>`\n",
    "\n",
    "From there you can navigate through different options and change the properties you want to change, common ones include,\n",
    "\n",
    "> Application: App path and startup directory <br>\n",
    "> I/O tab: Output and stderror path\n",
    "\n",
    "\n",
    "To monitor the service, you can either go to the \"Services\" app on windows and monitor it through the GUI or you can also monitor it directly in the command prompt\n",
    "\n",
    "delete service: `sc delete <service name>` <br>\n",
    "start service: `sc start <service name>` <br>\n",
    "pause service: `sc pause <service name>` <br>\n",
    "stop service: `sc stop <service name>` <br>"
   ]
  },
  {
   "cell_type": "code",
   "execution_count": null,
   "id": "c7f8358f-c7ac-4d12-9689-c56d3a66e06b",
   "metadata": {},
   "outputs": [],
   "source": []
  }
 ],
 "metadata": {
  "kernelspec": {
   "display_name": "Python 3 (ipykernel)",
   "language": "python",
   "name": "python3"
  },
  "language_info": {
   "codemirror_mode": {
    "name": "ipython",
    "version": 3
   },
   "file_extension": ".py",
   "mimetype": "text/x-python",
   "name": "python",
   "nbconvert_exporter": "python",
   "pygments_lexer": "ipython3",
   "version": "3.11.5"
  }
 },
 "nbformat": 4,
 "nbformat_minor": 5
}
