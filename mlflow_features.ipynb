{
 "cells": [
  {
   "cell_type": "markdown",
   "id": "7622c1a9-ba5c-4830-850d-bbc0ca403671",
   "metadata": {},
   "source": [
    "# MLflow Notes\n"
   ]
  },
  {
   "cell_type": "markdown",
   "id": "ae576a45-5f9d-4c7b-b7db-9d19d9dd7453",
   "metadata": {},
   "source": [
    "![image.png](statics/mlflow_setups.png)"
   ]
  },
  {
   "cell_type": "markdown",
   "id": "50440ee2-6c0c-45c8-889e-edc6b1dff9c2",
   "metadata": {},
   "source": [
    "## Concept guide\n",
    "\n",
    "Content from the section is copied from the following notebook: https://colab.research.google.com/drive/1xeoZku-rQDtVkLGy8RNeITvrA-Y92OvN#scrollTo=dIO-Angr0vSJ"
   ]
  },
  {
   "cell_type": "markdown",
   "id": "fa9f01f3-b3f2-40a6-8c82-a10d188b2b46",
   "metadata": {},
   "source": [
    "### 🧩 The MLFlow Components:\r\n",
    "\r\n",
    "**Components that MLFlow offers to help you manage your workflow :**\r\n",
    "- **MLflow Tracking -** Log parameters, metrics, and artifacts when running a machine learning code.\r\n",
    "- **MLflow Projects** - Package and reuse data science code.\r\n",
    "- **MLflow Registry -** Manage the lifespan of ML Model.\r\n",
    "- **MLflow Models** - Package and deploy ML models.\r\n",
    "dels."
   ]
  },
  {
   "cell_type": "markdown",
   "id": "d64bf80a-6f6b-403f-a629-81507c6b277c",
   "metadata": {},
   "source": [
    "### 🏃‍♂️& 🧪 Understanding Runs & Experiments\r\n",
    "\r\n",
    "- The **experiment** unit in MLflow can be handled as a \"project\" or as a \"approach\".  \r\n",
    "- The term **run** merely refers to a run or execution of a code once.\r\n",
    "\r\n",
    "*More than one run might be associated with a single experiment.*\r\n",
    "\r\n",
    "Each run is an execution of your data science code which records the following:\r\n",
    "\r\n",
    "- **Source of execution**: Contains the hash of the commit if the code was pushed to GitHub and the original line of code that was utilized for the run.\r\n",
    "- **Artifacts**: Artifacts are output files recorded during a run. \r\n",
    "- **Parameters**: Parameters are stored in the key-value format.\r\n",
    "- **Metrics:** The evaluation metrics such as RMSE or ROC-AUC are recorded in a run as well."
   ]
  },
  {
   "cell_type": "markdown",
   "id": "60300500-b0de-4d22-9988-531086f99510",
   "metadata": {},
   "source": [
    "### ✍️ How and where are the runs recorded?"
   ]
  },
  {
   "cell_type": "markdown",
   "id": "409324bb-01a6-4b04-91f5-bb92809958a4",
   "metadata": {},
   "source": [
    "*Runs of MLflow can be stored locally in files, remotely on a tracking server, or in a database that is compatible with [SQLAlchemy](https://www.sqlalchemy.org/) - an open-source SQL toolkit and object-relational mapper for the Python programming language.*\n",
    "\n",
    "#### Scenario 1: MLflow on localhost\n",
    "- A good first-time technique to get started.\n",
    "- MLflow will create a directory called **./mlruns** on your local system as soon as you import MLflow and log an artifact.\n",
    "- Limitations on collaboration because experiments or results can't be shared with a team.\n",
    "- Tracking UI - To visualize, search and compare runs, as well as download run artifacts or metadata for analysis in other tools by running the command `mlflow ui`.\n",
    "  \n",
    "![image.png](statics/localhost.png)\n",
    "\n",
    "\n",
    "The UI contains the following key features:\n",
    "\n",
    "- Experiment-based run listing and comparison (including run comparison across multiple experiments)\n",
    "- Searching for runs by parameter or metric value\n",
    "- Visualizing run metrics\n",
    "- Downloading run results"
   ]
  },
  {
   "cell_type": "markdown",
   "id": "2d6cbe58-e41c-4707-a580-d02b6e8389d0",
   "metadata": {},
   "source": [
    "#### Scenario 2: MLflow on localhost with SQLite\r\n",
    "\r\n",
    "The only difference between this process and the previous one is that we use a local database such as SQLite instead of storing runs to files."
   ]
  },
  {
   "cell_type": "markdown",
   "id": "8f22bb54-e4c1-4cf2-90c8-93677b62af8c",
   "metadata": {},
   "source": [
    "#### Scenario 3: MLflow on localhost with Tracking Server\r\n",
    "\r\n",
    "This scenario is again similar to the first scenario but here, you can setup a remote server using `mlflow server <args>` which will launch the tracking server at the default port 5000.\r\n"
   ]
  },
  {
   "cell_type": "markdown",
   "id": "b016756e-ff57-44cd-9e04-d1f7cc462ddd",
   "metadata": {},
   "source": [
    "#### Scenario 4: MLflow with remote Tracking Server, backend and artifact stores\n",
    "- The tracking server, backend store, and artifact store may all be located on different hosts in distributed architectures.\n",
    "- The MLflow client communicates with the tracking server through a sequence of REST requests in order to record all runs' MLflow entities. \n",
    "- The MLflow client interacts with the remote Tracking Server and artifact storage host such as AWS using the boto client libraries, and uploads the artifacts to the S3 bucket URI location.\n",
    "- This set up requires DevOps knowledge\n",
    "\n",
    "![image.png](statics/remote_tracking_server.png)"
   ]
  },
  {
   "cell_type": "markdown",
   "id": "d0a29d0d-f508-4ebd-b8f1-d626eef294d6",
   "metadata": {},
   "source": [
    "#### Scenario 5: MLflow Tracking Server enabled with proxied artifact storage access\n",
    "\n",
    "\n",
    "*In this case, it is not necessary to grant end users direct path access to a remote object store (such as S3, ADL, GCS, or HDFS) for the management of artifact, nor is it necessary for an end user to provide access credentials.* "
   ]
  },
  {
   "cell_type": "markdown",
   "id": "3a692dfe-f0a9-4652-b308-663c1b2f928b",
   "metadata": {},
   "source": [
    "![image.png](statics/proxied_artifact_storage_access.png)"
   ]
  },
  {
   "cell_type": "markdown",
   "id": "edcb2ef5-5ff9-4eb6-8d07-7e0c3ca80dcc",
   "metadata": {},
   "source": [
    "`mlflow server`: Check current running server, running this cmd under different directory in the command prompt will direct you to different dashboard, since it may be accessing different 'mlrun' directory in your local device <br>\n",
    "`mlflow server --host 127.0.0.1 --port 8080`: Set up tracking server (--port set up port number) <br>\n",
    "`mlflow ui`: Link to the ui dashboard \n"
   ]
  },
  {
   "cell_type": "markdown",
   "id": "c370ea02-72ac-4937-b1e7-efd7d68d477f",
   "metadata": {},
   "source": [
    "#### Scenario 6: MLflow x DagsHub\n",
    "\n",
    "- Going through all the above can be a bit of an hassle, even for people with DevOps background. To simplify the process, DagsHub decided to do the MLOps heavy lifting for you.\n",
    "\n",
    "- **DagsHub provides a free remote MLflow server with every repository.**\n",
    "\n",
    "- You can log experiments with MLflow to it, view its information under the [experiment tab](https://dagshub.com/docs/feature_guide/discovering_experiments/), and manage your trained models from the full-fledged MLflow UI built into your DagsHub project.\n",
    "\n",
    "- When you create a repository on DagsHub, a remote MLflow server is automatically created and configured with the project. The repository's MLflow tracking server will be located at:\n",
    "\n",
    "  `https://dagshub.com/<DagsHub-user-name>/<repository-name>.mlflow`"
   ]
  },
  {
   "cell_type": "markdown",
   "id": "6151b454-4ace-4ad3-95a6-d2e8683ccfee",
   "metadata": {},
   "source": [
    "## Setting/Connecting servers and experiments\n",
    "\n",
    "https://mlflow.org/docs/latest/tracking/server.html"
   ]
  },
  {
   "cell_type": "markdown",
   "id": "a6b0857f-ee52-46ec-80e3-a7d7974dc9bd",
   "metadata": {},
   "source": [
    "#### Connect to local host"
   ]
  },
  {
   "cell_type": "code",
   "execution_count": null,
   "id": "41b41bb6-0e29-4280-9fb7-55f54750a019",
   "metadata": {},
   "outputs": [],
   "source": [
    "# make sure your host and port number matches\n",
    "mlflow.set_tracking_uri(uri=\"http://127.0.0.1:8080\")\n",
    "client = MlflowClient(tracking_uri=\"http://127.0.0.1:8080\")"
   ]
  },
  {
   "cell_type": "markdown",
   "id": "ad460795-6d4c-482e-bd97-ec895e99a772",
   "metadata": {},
   "source": [
    "**You can connect mlflow in CLI as follows**\n",
    "\n",
    "Mac/Linux/Unix <br>\n",
    "`export MLFLOW_TRACKING_URI=http://127.0.0.1:8080` \n",
    "\n",
    "Windows <br>\n",
    "`$env:MLFLOW_TRACKING_URI=\"http://127.0.0.1:8080\"`"
   ]
  },
  {
   "cell_type": "markdown",
   "id": "51b1bf3a-4ae6-464e-b775-0177474543cb",
   "metadata": {},
   "source": [
    "#### Create an experiment"
   ]
  },
  {
   "cell_type": "code",
   "execution_count": null,
   "id": "4c77ac16-6c69-463d-a938-d65e0ed8c72b",
   "metadata": {},
   "outputs": [],
   "source": [
    "experiment_description = (\n",
    "    \"Write your description here.\"\n",
    ")\n",
    "\n",
    "# You can set your own experiment tags here\n",
    "experiment_tags = {\n",
    "    \"project_name\": \"the project name\",\n",
    "    \"your tags\": \"value\",\n",
    "    \"mlflow.note.content\": experiment_description,\n",
    "}\n",
    "\n",
    "client.create_experiment(name=\"experiment_name\", tags=experiment_tags) # cannot create experiment if experiment name already exist"
   ]
  },
  {
   "cell_type": "markdown",
   "id": "43727fc4-de1d-4cf4-b4fd-2a14e362be9e",
   "metadata": {},
   "source": [
    "#### Search for an experiment"
   ]
  },
  {
   "cell_type": "code",
   "execution_count": null,
   "id": "9540e203-fe21-4050-aeab-bc30507b3a6d",
   "metadata": {},
   "outputs": [],
   "source": [
    "all_experiments = client.search_experiments()\n",
    "# search with tagging\n",
    "apples_experiment = client.search_experiments(\n",
    "    filter_string=\"tags.`project_name` = 'grocery-forecasting'\" \n",
    ")"
   ]
  },
  {
   "cell_type": "markdown",
   "id": "e64fd3cc-cb93-4cf2-b0b6-1acd731e31eb",
   "metadata": {},
   "source": [
    "#### Set an experiment"
   ]
  },
  {
   "cell_type": "code",
   "execution_count": null,
   "id": "7732d85a-9059-42df-9cd3-42e204b52b59",
   "metadata": {},
   "outputs": [],
   "source": [
    "apple_experiment = mlflow.set_experiment(\"Apple_Models\") # name of your experiment"
   ]
  },
  {
   "cell_type": "markdown",
   "id": "bbd0af30-69f4-4345-9062-dd9375d65429",
   "metadata": {},
   "source": [
    "## Runs configurations"
   ]
  },
  {
   "cell_type": "markdown",
   "id": "8c69ceb1-d82f-4c6a-9b88-f21abdd9865a",
   "metadata": {},
   "source": [
    "#### Initialize the run"
   ]
  },
  {
   "cell_type": "code",
   "execution_count": null,
   "id": "b100b817-397f-4ded-b893-05b239455c12",
   "metadata": {},
   "outputs": [],
   "source": [
    "# If this is not set, a unique name will be auto-generated for your run, noted that two runs can have the same name\n",
    "run_name = \"apples_rf_test\"\n",
    "\n",
    "with mlflow.start_run(run_name=run_name) as run:\n",
    "    print(run.info.run_id) # run id of the current run"
   ]
  },
  {
   "cell_type": "markdown",
   "id": "2eade80f-6840-4880-9711-f13d4892eb60",
   "metadata": {},
   "source": [
    "#### Log params and metrics\n",
    "\n",
    "Key-value pairs"
   ]
  },
  {
   "cell_type": "code",
   "execution_count": null,
   "id": "720cc659-de65-4fa4-b7d6-fa436223bff3",
   "metadata": {},
   "outputs": [],
   "source": [
    "params = {\"solver\": \"lbfgs\", \"max_iter\": 1000, \"multi_class\": \"auto\", \"random_state\": 8888} #key-value pair\n",
    "mlflow.log_params(params)\n",
    "mlflow.log_param(\"solver\", \"lbfgs\")\n",
    "\n",
    "\n",
    "mlflow.log_metrics(metrics) # key-value pair similar to logging params"
   ]
  },
  {
   "cell_type": "markdown",
   "id": "67ea55b7-eeed-4d63-82b7-3ecdd33a979e",
   "metadata": {},
   "source": [
    "#### Log artifact\n",
    "\n",
    "You can log local directories to mlflow as an artifact"
   ]
  },
  {
   "cell_type": "code",
   "execution_count": null,
   "id": "9ab5d633-b3be-422c-9c8f-e7c546999e5b",
   "metadata": {},
   "outputs": [],
   "source": [
    "mlflow.log_artifact('local directory path')"
   ]
  },
  {
   "cell_type": "markdown",
   "id": "6a91f53a-c8f8-487c-9dbd-4185dadb2efe",
   "metadata": {},
   "source": [
    "#### Set tag\n",
    "\n",
    "key-value pairs"
   ]
  },
  {
   "cell_type": "code",
   "execution_count": null,
   "id": "eea9f3d0-93e0-4fed-9886-af11503ae5d1",
   "metadata": {},
   "outputs": [],
   "source": [
    "mlflow.set_tag(\"Training Info\", \"Basic LR model for iris data\")"
   ]
  },
  {
   "cell_type": "markdown",
   "id": "04472d39-226f-4c43-a45f-4d84f85860ef",
   "metadata": {},
   "source": [
    "#### Set signature\n",
    "\n",
    "In MLflow, a signature refers to the description of the input and output parameters of a machine learning model or function. It **defines the expected data types and shapes of the inputs and outputs**, allowing MLflow to infer and validate the inputs and outputs when serving the model."
   ]
  },
  {
   "cell_type": "code",
   "execution_count": null,
   "id": "33fd7228-5573-4cdd-b016-f8c1f9f52d7e",
   "metadata": {},
   "outputs": [],
   "source": [
    "# part of the parameter in log_model, see below\n",
    "signature = infer_signature(X_train, lr.predict(X_train))"
   ]
  },
  {
   "cell_type": "markdown",
   "id": "f66a3c9a-8271-4939-a0ce-4ee78e199d7e",
   "metadata": {},
   "source": [
    "#### Manually log the model"
   ]
  },
  {
   "cell_type": "code",
   "execution_count": null,
   "id": "e37690fb-6bf6-4129-ba1b-b0ee9bfdae40",
   "metadata": {},
   "outputs": [],
   "source": [
    "model_info = mlflow.sklearn.log_model(\n",
    "    sk_model=lr, # the trained model\n",
    "    artifact_path=\"iris_model\", # name of the artifact\n",
    "    signature=signature,\n",
    "    input_example=X_train,\n",
    "    registered_model_name=\"tracking-quickstart\", # the model will not be registered if you didn't set the parameter\n",
    "    # but you can register the model manually in the dashboard on the right hand side of the screen \"Register Model\"\n",
    ")"
   ]
  },
  {
   "cell_type": "markdown",
   "id": "0ea39992-d49f-40ad-af22-ea189241e4f8",
   "metadata": {},
   "source": [
    "#### Autolog\n",
    "\n",
    "The mlflow.autolog() function is a convenient feature provided by MLflow that automatically logs several aspects of your machine learning code and environment during training or model fitting. It helps simplify the process of tracking and recording important information without the need for explicit logging statements."
   ]
  },
  {
   "cell_type": "code",
   "execution_count": null,
   "id": "b777b435-2d69-401a-bcac-1a658b865c2f",
   "metadata": {},
   "outputs": [],
   "source": [
    "# Enable automatic logging\n",
    "mlflow.autolog()\n",
    "# disable autolog\n",
    "mlflow.autolog(disable=True) \n",
    "\n",
    "# Start an MLflow run\n",
    "with mlflow.start_run():\n",
    "\n",
    "    # Create and fit a scikit-learn model\n",
    "    model = LogisticRegression()\n",
    "    model.fit(X_train, y_train)\n",
    "\n",
    "    # The metrics, parameters, artifacts, and model are automatically logged"
   ]
  },
  {
   "cell_type": "markdown",
   "id": "0808c75e-69c5-4849-b2b5-0be71169598a",
   "metadata": {},
   "source": [
    "#### Query runs"
   ]
  },
  {
   "cell_type": "code",
   "execution_count": null,
   "id": "c569ad64-6eba-46cc-8cf5-d478b4343fd6",
   "metadata": {},
   "outputs": [],
   "source": [
    "client = mlflow.tracking.MlflowClient()\n",
    "experiment_id = \"0\" # experimental id, 0 refers to experiment 'Default'\n",
    "best_run = client.search_runs(\n",
    "    experiment_id, order_by=[\"metrics.val_loss ASC\"], max_results=1\n",
    ")[0]\n",
    "print(best_run.info)\n",
    "# {'run_id': '...', 'metrics': {'val_loss': 0.123}, ...}"
   ]
  },
  {
   "cell_type": "markdown",
   "id": "44bc6adc-51de-4d4d-a9cd-6e38f8bd8917",
   "metadata": {},
   "source": [
    "#### Creating Child runs\n",
    "\n",
    "https://mlflow.org/docs/latest/tracking/tracking-api.html#creating-child-runs\n",
    "\n",
    "You can also create multiple runs inside a single run. This is useful for scenario like hyperparameter tuning, cross-validation folds, where you need another level of organization within an experiment. You can create child runs by passing parent_run_id to mlflow.start_run() function. For example:\n",
    "The nested runs inherit properties from the parent run, such as the experiment ID, tags, and the run's lifecycle. However, they have their own unique run ID and can have their own set of metrics, parameters, and artifacts.\n",
    "\n",
    "By utilizing nested runs, you can have a hierarchical structure that provides a more detailed view of your experiment, making it easier to analyze and compare different iterations or variations.\n"
   ]
  },
  {
   "cell_type": "code",
   "execution_count": null,
   "id": "b11164ef-ab76-4a1d-ba24-fe3c2040a053",
   "metadata": {},
   "outputs": [],
   "source": [
    "# Start parent run\n",
    "with mlflow.start_run() as parent_run:\n",
    "    param = [0.01, 0.02, 0.03]\n",
    "\n",
    "    # Create a child run for each parameter setting\n",
    "    for p in param:\n",
    "        with mlflow.start_run(nested=True) as child_run:\n",
    "            mlflow.log_param(\"p\", p)\n",
    "            ...\n",
    "            mlflow.log_metric(\"val_loss\", val_loss)"
   ]
  },
  {
   "cell_type": "markdown",
   "id": "abc47c2d-6d10-4372-9f24-c2889be81591",
   "metadata": {},
   "source": [
    "#### Parellel runs - Multiprocessing\n",
    "\n",
    "https://mlflow.org/docs/latest/tracking/tracking-api.html#parallel-runs"
   ]
  },
  {
   "cell_type": "code",
   "execution_count": null,
   "id": "90880eea-e50b-43f2-9baf-e6ba12bf70e8",
   "metadata": {},
   "outputs": [],
   "source": [
    "import multiprocessing as mp\n",
    "\n",
    "def train_model(params):\n",
    "    with mlflow.start_run():\n",
    "        mlflow.log_param(\"p\", params)\n",
    "        ...\n",
    "\n",
    "if __name__ == \"__main__\":\n",
    "    params = [0.01, 0.02, ...]\n",
    "    pool = mp.Pool(processes=4)\n",
    "    pool.map(train_model, params)"
   ]
  },
  {
   "cell_type": "markdown",
   "id": "ea681600-49cd-4053-8a6a-09e7ce48da61",
   "metadata": {},
   "source": [
    "#### Parellel runs - Multithreading\n",
    "\n",
    "https://mlflow.org/docs/latest/tracking/tracking-api.html#parallel-runs"
   ]
  },
  {
   "cell_type": "markdown",
   "id": "00379d72-690a-4516-b2c0-74680a60fe0a",
   "metadata": {},
   "source": [
    "#### Add tags to run - for better organization\n",
    "\n",
    "https://mlflow.org/docs/latest/tracking/tracking-api.html#adding-tags-to-runs"
   ]
  },
  {
   "cell_type": "markdown",
   "id": "0382a669-6812-4eab-915e-b95f60a0932f",
   "metadata": {},
   "source": [
    "## Model Registry and Versioning\n",
    "\n",
    "**Noted that a lot of the functions can be done manually in the mlflow ui**\n",
    "\n",
    "https://mlflow.org/docs/latest/model-registry.html"
   ]
  },
  {
   "cell_type": "markdown",
   "id": "389bf467-d2cf-43a6-b0e6-214c4bd2ab73",
   "metadata": {},
   "source": [
    "#### Manually registering a model"
   ]
  },
  {
   "cell_type": "code",
   "execution_count": null,
   "id": "dae88173-9afa-4f23-a88c-4b156a970f13",
   "metadata": {},
   "outputs": [],
   "source": [
    "# Select a subpath name for the run\n",
    "subpath = \"world_1-1\"\n",
    "\n",
    "# Select a name for the model to be registered\n",
    "model_name = \"Cool Mario Model\"\n",
    "\n",
    "# build the run URI\n",
    "run_uri = f'runs:/{run_id}/{subpath}'\n",
    "\n",
    "# register the model with register_model\n",
    "model_version = mlflow.register_model(run_uri, model_name)\n",
    "\n",
    "# register the model with create_registered_model\n",
    "model_version = mlflow.create_register_model(run_uri, model_name)\n",
    "\n",
    "# The difference is that create_registered_model will throw error if there already exist model of same name\n",
    "# while register_model will create a new version under that particular model"
   ]
  },
  {
   "cell_type": "markdown",
   "id": "db61a503-fad0-439e-8510-36f751740d20",
   "metadata": {},
   "source": [
    "#### Deleting a model"
   ]
  },
  {
   "cell_type": "code",
   "execution_count": null,
   "id": "774aca54-c25e-461a-896e-84fce137c1bf",
   "metadata": {},
   "outputs": [],
   "source": [
    "client = MlflowClient()\n",
    "\n",
    "# delete a particular version\n",
    "client.delete_model_version(name=\"name of your model\", version=1)\n",
    "\n",
    "# delete all versions\n",
    "client.delete_registered_model(name=\"name of your model\")"
   ]
  },
  {
   "cell_type": "markdown",
   "id": "4f5b554e-7700-49d8-9a80-9cbb4ef028dd",
   "metadata": {},
   "source": [
    "#### Searching for a model\n",
    "\n",
    "https://mlflow.org/docs/latest/model-registry.html#listing-and-searching-mlflow-models"
   ]
  },
  {
   "cell_type": "code",
   "execution_count": null,
   "id": "4bb3ab30-20e4-4f7d-bb40-f25c44b1c1e6",
   "metadata": {},
   "outputs": [],
   "source": [
    "client = MlflowClient()\n",
    "\n",
    "# search for a model\n",
    "for rm in client.search_registered_models():\n",
    "    pprint(dict(rm),indent=4)\n",
    "\n",
    "# search for a version of a model\n",
    "for mv in client.search_model_versions(\"name='name of your model'\")\n",
    "    pprint(dict(mv), indent=4)"
   ]
  },
  {
   "cell_type": "markdown",
   "id": "c08220bb-f6db-4222-a990-bb37f306ee99",
   "metadata": {},
   "source": [
    "#### Get latest version of a model"
   ]
  },
  {
   "cell_type": "code",
   "execution_count": null,
   "id": "b316d0ae-4bd4-4359-92b7-ba205f6ff443",
   "metadata": {},
   "outputs": [],
   "source": [
    "client = MlflowClient()\n",
    "client.get_latest_versions(\"name of your model\", stages=[\"Staging\"])[0] #you can set the stages parameter"
   ]
  },
  {
   "cell_type": "markdown",
   "id": "c46b83f7-dcf0-47cd-b11e-3520f6e051bd",
   "metadata": {},
   "source": [
    "#### Model tagging and aliases\n",
    "\n",
    "https://mlflow.org/docs/latest/model-registry.html#deploy-and-organize-models-with-aliases-and-tags"
   ]
  },
  {
   "cell_type": "markdown",
   "id": "3a855589-3d29-4a86-bc9d-189c45f36be6",
   "metadata": {},
   "source": [
    "#### Registering a Model Saved Outside MLflow\n",
    "\n",
    "https://mlflow.org/docs/latest/model-registry.html#registering-a-model-saved-outside-mlflow"
   ]
  }
 ],
 "metadata": {
  "kernelspec": {
   "display_name": "Python 3 (ipykernel)",
   "language": "python",
   "name": "python3"
  },
  "language_info": {
   "codemirror_mode": {
    "name": "ipython",
    "version": 3
   },
   "file_extension": ".py",
   "mimetype": "text/x-python",
   "name": "python",
   "nbconvert_exporter": "python",
   "pygments_lexer": "ipython3",
   "version": "3.11.5"
  }
 },
 "nbformat": 4,
 "nbformat_minor": 5
}
