{
 "cells": [
  {
   "cell_type": "markdown",
   "id": "37068eae-6370-4e29-9097-87641d01c196",
   "metadata": {},
   "source": [
    "# MLflow Resources"
   ]
  },
  {
   "cell_type": "markdown",
   "id": "9850dd98-2eec-4729-8aa0-d0bdab5844d4",
   "metadata": {},
   "source": [
    "## MLflow Quick Start\n",
    "\n",
    "**MLflow Tracking QuickStart**\n",
    "\n",
    "https://mlflow.org/docs/latest/getting-started/intro-quickstart/index.html\n",
    "\n",
    "**Logging your First ML model**\n",
    "\n",
    "https://mlflow.org/docs/latest/getting-started/logging-first-model/step1-tracking-server.html\n",
    "\n",
    "https://mlflow.org/docs/latest/tracking/tracking-api.html\n",
    "\n",
    "**Introduction to Autologging**\n",
    "\n",
    "https://mlflow.org/docs/latest/getting-started/quickstart-1/index.html#add-mlflow-tracking-to-your-code\n",
    "\n",
    "**Compare runs, choose a model, and deploy it to a REST API**\r\n",
    "\n",
    "https://mlflow.org/docs/latest/getting-started/quickstart-2/index.html#set-lp"
   ]
  },
  {
   "cell_type": "markdown",
   "id": "85e79f23-e6e5-4e77-8328-89be8efb980a",
   "metadata": {},
   "source": [
    "## MLflow Docs\n",
    "\n",
    "**Tracking server overview**\n",
    "\n",
    "https://mlflow.org/docs/latest/getting-started/tracking-server-overview/index.html\n",
    "\n",
    "https://mlflow.org/docs/latest/tracking/server.html#optionally-using-a-tracking-server-instance-exclusively-for-artifact-handling\n",
    "\n",
    "**Remote Experiment Tracking with MLflow Tracking Server**\n",
    "\n",
    "https://mlflow.org/docs/latest/tracking/tutorials/remote-server.htmlp\n",
    "\n",
    "**Tracking experiments with local database**\n",
    "\n",
    "https://mlflow.org/docs/latest/tracking/tutorials/local-database.html\n",
    "\n",
    "**Model Registry**\n",
    "\n",
    "https://mlflow.org/docs/latest/model-registry.html"
   ]
  },
  {
   "cell_type": "markdown",
   "id": "1fd6a95e-99af-4b4c-86e7-188a2606ce91",
   "metadata": {
    "jp-MarkdownHeadingCollapsed": true
   },
   "source": [
    "## MLflow x Dagshub - remote tracking server with Dagshub\n",
    "\n",
    "**Part 1 - What is MLflow and MLflow Tracking**\n",
    "\n",
    "https://www.youtube.com/watch?v=daBTYQP23-A\n",
    "\n",
    "https://colab.research.google.com/drive/1xeoZku-rQDtVkLGy8RNeITvrA-Y92OvN#scrollTo=dIO-Angr0vSJ\n",
    "\n",
    "**Part 2 - MLflow Crash Course - Model Registry and Model Deployment**\n",
    "\n",
    "https://www.youtube.com/watch?v=bDflB17YUNc\n",
    "\n",
    "https://colab.research.google.com/drive/1lLO8CmqJ2wLY5nTHNMvvMYwHEJQtqQNo?usp=sharing\n",
    "\n",
    "**Initiate dagshub workflow/environment**\n",
    "\n",
    "https://dagshub.com/docs/integration_guide/mlflow_tracking/index.html"
   ]
  },
  {
   "cell_type": "markdown",
   "id": "e1fd2708-7f19-444f-a633-bfdfe438a0f3",
   "metadata": {},
   "source": [
    "## Docker \n",
    "\n",
    "**Beginner's Guide to Docker**\n",
    "\n",
    "https://wsvincent.com/beginners-guide-to-docker/\n",
    "\n",
    "**Docker Crash Course**\n",
    "\n",
    "https://www.youtube.com/playlist?list=PL4cUxeGkcC9hxjeEtdHFNYMtCpjNBm3h7"
   ]
  },
  {
   "cell_type": "markdown",
   "id": "919c501f-d697-4cb8-a2e3-7012738fefe0",
   "metadata": {},
   "source": [
    "## Kubernetes\n",
    "\n",
    "**Run an mlflow project on Kubernetes**\n",
    "\n",
    "https://mlflow.org/docs/latest/projects.html#run-an-mlflow-project-on-kubernetes"
   ]
  },
  {
   "cell_type": "markdown",
   "id": "18f949fb-aa91-4646-90d1-6951e44ea1fc",
   "metadata": {},
   "source": [
    "## DVC\n",
    "\n",
    "**Beginner's Guide to DVC**\n",
    "\n",
    "https://towardsdatascience.com/introduction-to-dvc-data-version-control-tool-for-machine-learning-projects-7cb49c229fe0"
   ]
  },
  {
   "cell_type": "markdown",
   "id": "7b947254-e39b-4d8b-bbf1-aa9a43d573d3",
   "metadata": {},
   "source": [
    "## Examples/Articles\n",
    "\n",
    "**MLFlow Tutorial -ML Tracking and Serving**\n",
    "\n",
    "https://blog.devgenius.io/mlflow-tutorial-ml-tracking-and-serving-49abd929c8d9\n",
    "\n",
    "**Deploy MLflow with Docker Compose**\n",
    "\n",
    "https://towardsdatascience.com/deploy-mlflow-with-docker-compose-8059f16b6039"
   ]
  },
  {
   "cell_type": "markdown",
   "id": "1f5a0ee3-f0f9-4dab-98fb-2cebda342159",
   "metadata": {},
   "source": [
    "## Common Bugs and respective Fixes"
   ]
  },
  {
   "cell_type": "markdown",
   "id": "79d629b1-e17a-43b4-bef6-1a4c3162d44b",
   "metadata": {},
   "source": [
    "#### > mlflow.exceptions.MlflowException: Could not find the pyenv binary\n",
    "\n",
    "**1. Install pyenv https://github.com/pyenv/pyenv#installation** <br>\n",
    "**2. Make sure pyenv is in your path https://stackoverflow.com/questions/75534090/mlflow-model-serve-cant-find-pyenv**"
   ]
  },
  {
   "cell_type": "markdown",
   "id": "cb4ae6a3-a2e4-4153-af06-1998bf68e15f",
   "metadata": {},
   "source": [
    "#### > mlflow.exceptions.MlflowExceptions: The configured tracking uri scheme: 'file' is invalid for use with the proxy mlflow-artifact scheme. The allowed tracking schemes are: {'http', 'https'}\n",
    "\n",
    "**1. Make sure you have set the tracking server uri**\n",
    "- In python, run mlflow.set_tracking_uri(uri=\"the uri here\")\n",
    "- In terminal, run `export MLFLOW_TRACKING_URI=\"the uri here\"` or `set MLFLOW TRACKING URI=\"the uri here\"` if you are using windows\n",
    "  \n",
    "**2. If you use `mlflow ui` to initialize the local tracking server, try use `mlflow server` instread**"
   ]
  }
 ],
 "metadata": {
  "kernelspec": {
   "display_name": "Python 3 (ipykernel)",
   "language": "python",
   "name": "python3"
  },
  "language_info": {
   "codemirror_mode": {
    "name": "ipython",
    "version": 3
   },
   "file_extension": ".py",
   "mimetype": "text/x-python",
   "name": "python",
   "nbconvert_exporter": "python",
   "pygments_lexer": "ipython3",
   "version": "3.11.5"
  }
 },
 "nbformat": 4,
 "nbformat_minor": 5
}
