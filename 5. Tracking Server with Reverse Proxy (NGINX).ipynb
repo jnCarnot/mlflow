{
 "cells": [
  {
   "cell_type": "markdown",
   "id": "cc7829c9-6e88-4375-b533-9ae185bd8179",
   "metadata": {},
   "source": [
    "# MLflow tracking server with reverse proxy (NGINX) "
   ]
  },
  {
   "cell_type": "code",
   "execution_count": null,
   "id": "cd5bd394-03c9-45da-804a-1bdbf7f8f444",
   "metadata": {},
   "outputs": [],
   "source": []
  }
 ],
 "metadata": {
  "kernelspec": {
   "display_name": "Python 3 (ipykernel)",
   "language": "python",
   "name": "python3"
  },
  "language_info": {
   "codemirror_mode": {
    "name": "ipython",
    "version": 3
   },
   "file_extension": ".py",
   "mimetype": "text/x-python",
   "name": "python",
   "nbconvert_exporter": "python",
   "pygments_lexer": "ipython3",
   "version": "3.11.5"
  }
 },
 "nbformat": 4,
 "nbformat_minor": 5
}
