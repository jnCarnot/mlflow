{
 "cells": [
  {
   "cell_type": "markdown",
   "id": "cc7829c9-6e88-4375-b533-9ae185bd8179",
   "metadata": {},
   "source": [
    "# MLflow tracking server with reverse proxy (NGINX) "
   ]
  },
  {
   "cell_type": "markdown",
   "id": "65cfed0b-5dc9-4e71-b209-cccb07f5f50e",
   "metadata": {},
   "source": [
    "## Common errors"
   ]
  },
  {
   "cell_type": "markdown",
   "id": "aa93d8b9-c276-4a58-b623-b8878320f532",
   "metadata": {},
   "source": [
    "#### **Error response from daemon: Ports not available**\n",
    "\n",
    "If you ran across this error while running docker-compose, it is likely that the port is already in use. To check if it is the case, you can run `sudo lsof -i :<port number>` to check if there are any other process running on the port. \n",
    "\n",
    "If it is the case, there are two fixes to the problem. Firstly, you can terminate the current running process on the port by running the following cmd `sudo kill <PID>`. But a safer and easier first will be to change the db port you are planning to use, ie. change the environment variable `export DB_PORT=3007`\n",
    "\n",
    "**MacOS:**\n",
    "Interestingly, if you try to connect to port 5000 on MacOS, it returns this error. In fact, it is due to the fact that the airplay receiver in running on port 5000 for MacOS devices. See more here: https://developer.apple.com/forums/thread/682332\n",
    "\n",
    "**Useful commands regarding ports**\n",
    "\n",
    "`sudo lsof -i :<port number>`: Check if there are any process running on the port\n",
    "\n",
    "`ps -p <PID>`: Check some details of the corresponding processing id (you can get it after running sudo lsof command)\n",
    "\n",
    "`sudo kill <PID>`: Stop the running process of the corresponding process id\n",
    "\n",
    "\n",
    "<br>"
   ]
  },
  {
   "cell_type": "markdown",
   "id": "fd5de2a3-34f6-4ab5-b2d8-686af83f9213",
   "metadata": {},
   "source": [
    "#### **ssh: connect to host <...>: Connection refused**\n",
    "\n",
    "**Verify SSH service**: Make sure to ensure that SSH service is running and accessible on the remote machine. On macOS, you can go System Preference > Sharing and make sure \"Remote Login\" or \"SSH\" is enabled.\n",
    "\n",
    "<br>"
   ]
  },
  {
   "cell_type": "markdown",
   "id": "94d9c239-262c-4b97-afed-13d98a5fa132",
   "metadata": {},
   "source": [
    "#### **502 Bad Gateway**"
   ]
  },
  {
   "cell_type": "code",
   "execution_count": null,
   "id": "f2033c80-a19a-4a36-ab45-c8f288b10717",
   "metadata": {},
   "outputs": [],
   "source": []
  }
 ],
 "metadata": {
  "kernelspec": {
   "display_name": "Python 3 (ipykernel)",
   "language": "python",
   "name": "python3"
  },
  "language_info": {
   "codemirror_mode": {
    "name": "ipython",
    "version": 3
   },
   "file_extension": ".py",
   "mimetype": "text/x-python",
   "name": "python",
   "nbconvert_exporter": "python",
   "pygments_lexer": "ipython3",
   "version": "3.11.5"
  }
 },
 "nbformat": 4,
 "nbformat_minor": 5
}
