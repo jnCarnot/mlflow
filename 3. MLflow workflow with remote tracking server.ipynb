{
 "cells": [
  {
   "cell_type": "markdown",
   "id": "074432a1-5f7e-4b34-8361-196b66f88c5a",
   "metadata": {},
   "source": [
    "# MLflow workflow with remote tracking server (DagsHub)"
   ]
  },
  {
   "cell_type": "code",
   "execution_count": 9,
   "id": "8f084f2b-c18a-4a39-a682-737da7da5ada",
   "metadata": {},
   "outputs": [],
   "source": [
    "import mlflow"
   ]
  },
  {
   "cell_type": "markdown",
   "id": "889a3fa0-bd1b-4856-9209-1f32a2c8ff65",
   "metadata": {},
   "source": [
    "**The following notebook uses DagsHub as remote tracking server, please note that you may not be able to run the scripts due to the demonstrated tracking server is private repository**\n",
    "\n",
    "**If you want to run the scripts, you may follow these two notebooks from scratch**\n",
    "\n",
    "https://colab.research.google.com/drive/1xeoZku-rQDtVkLGy8RNeITvrA-Y92OvN#scrollTo=dIO-Angr0vSJ\n",
    "https://colab.research.google.com/drive/1lLO8CmqJ2wLY5nTHNMvvMYwHEJQtqQNo?usp=sharing\n"
   ]
  },
  {
   "cell_type": "markdown",
   "id": "c4d42201-5dfa-4213-bb64-a1609c629377",
   "metadata": {},
   "source": [
    "### MLflow UI\n",
    "\n",
    "mlflow ui link: https://dagshub.com/jadon.ng/mario_vs_wario.mlflow (noted that you need to be logged in to dagshub (assuming you have access to the repository) to be able to access the ui)"
   ]
  },
  {
   "cell_type": "markdown",
   "id": "ceff0e47-e357-4523-8ad6-cbb06586bde0",
   "metadata": {},
   "source": [
    "## Setting up workspace"
   ]
  },
  {
   "cell_type": "markdown",
   "id": "cdf660ec-000d-4179-bad4-7e4524088d0c",
   "metadata": {},
   "source": [
    "### Get DAGSHUB_TOKEN (optional, alternatively you can copy the token from DAGSHUB)"
   ]
  },
  {
   "cell_type": "code",
   "execution_count": 10,
   "id": "3bfeb0cb-e461-4d1d-b5f3-1bb289060976",
   "metadata": {},
   "outputs": [],
   "source": [
    "DAGSHUB_USER_NAME = \"jadon.ng\" \n",
    "DAGSHUB_EMAIL = \"jadon.ng@carnot-innovations.com\" "
   ]
  },
  {
   "cell_type": "code",
   "execution_count": 11,
   "id": "57a20428-d862-4312-b1af-c6cdf2b40079",
   "metadata": {},
   "outputs": [
    {
     "name": "stdin",
     "output_type": "stream",
     "text": [
      "DAGsHub password: ········\n"
     ]
    }
   ],
   "source": [
    "# Get DAGSHUB_TOKEN\n",
    "import requests\n",
    "import getpass\n",
    "import datetime\n",
    "\n",
    "r = requests.post('https://dagshub.com/api/v1/user/tokens',\n",
    "                  json={\"name\": f\"colab-token-{datetime.datetime.now()}\"},\n",
    "                  auth=(DAGSHUB_USER_NAME, getpass.getpass('DAGsHub password:')))\n",
    "r.raise_for_status()\n",
    "DAGSHUB_TOKEN=r.json()['sha1']"
   ]
  },
  {
   "cell_type": "markdown",
   "id": "f8bec0e7-5de2-4074-8b09-4522c0112061",
   "metadata": {},
   "source": [
    "### Set up important variables \n",
    "\n",
    "To ensure that only authenticate collaborators will run/commit on the dagshub repository, you need to set up the identification variables to gain access."
   ]
  },
  {
   "cell_type": "code",
   "execution_count": 12,
   "id": "5dce97c2-9cba-4669-99fd-bc24cf88344a",
   "metadata": {},
   "outputs": [],
   "source": [
    "import os\n",
    "\n",
    "os.environ['MLFLOW_TRACKING_URI']=\"https://dagshub.com/jadon.ng/mario_vs_wario.mlflow\" # the tracking uri\n",
    "\n",
    "os.environ['MLFLOW_TRACKING_USERNAME'] = DAGSHUB_USER_NAME\n",
    "os.environ['MLFLOW_TRACKING_PASSWORD'] = DAGSHUB_TOKEN"
   ]
  },
  {
   "cell_type": "markdown",
   "id": "8f19e21b-9217-4d87-8164-3ae85d7980d3",
   "metadata": {},
   "source": [
    "**Set tracking uri to connect to the mlflow tracking server**"
   ]
  },
  {
   "cell_type": "code",
   "execution_count": 13,
   "id": "4cbfdaa9-2b7c-4b31-b0a0-8d189a381c04",
   "metadata": {},
   "outputs": [],
   "source": [
    "mlflow.set_tracking_uri(os.environ['MLFLOW_TRACKING_URI'])"
   ]
  },
  {
   "cell_type": "markdown",
   "id": "6ee788b4-6974-4e51-944e-4d9d351620f8",
   "metadata": {},
   "source": [
    "Check that we have successfully establish the connection by printing out all the registered models on the tracking server"
   ]
  },
  {
   "cell_type": "code",
   "execution_count": 14,
   "id": "74239848-865f-4d19-a8f1-5fca68d2897d",
   "metadata": {},
   "outputs": [
    {
     "name": "stdout",
     "output_type": "stream",
     "text": [
      "name=Cool Mario Model; run_id=84814069b039487c81d02ca382f96160; version=1, stage=None\n",
      "name=Great Mario Model; run_id=71cacc0abf404ad5af8d9749bf18da9d; version=1, stage=Staging\n",
      "name=iris_model; run_id=790e26ade93b479ab7984a2d0eddac74; version=1, stage=Staging\n",
      "name=Wicked Wario Model; run_id=daf93da97e0e4a5da34ad9957626b30b; version=1, stage=None\n"
     ]
    }
   ],
   "source": [
    "client = mlflow.MlflowClient()\n",
    "\n",
    "# loop through all registered models\n",
    "# `\"name LIKE '%'\"` will match all model names <- SQL query\n",
    "for model in client.search_registered_models(filter_string=\"name LIKE '%'\"):\n",
    "    # loop through the latest versions for each stage of a registered model\n",
    "    for model_version in model.latest_versions:\n",
    "        print(f\"name={model_version.name}; run_id={model_version.run_id}; version={model_version.version}, stage={model_version.current_stage}\")"
   ]
  },
  {
   "cell_type": "markdown",
   "id": "514a9724-7be1-4d33-acaf-abdda88828a6",
   "metadata": {
    "jp-MarkdownHeadingCollapsed": true
   },
   "source": [
    "### Set up tracking server on terminal/command prompt\n",
    "\n",
    "Mac/Linux/Unix:\n",
    "\n",
    "`export MLFLOW_TRACKING_URI=<tracking-uri>`  <br>\n",
    "\n",
    "Windows:\n",
    "\n",
    "`set MLFLOW_TRACKING_URI=<tracking-uri>`"
   ]
  },
  {
   "cell_type": "markdown",
   "id": "a1b5db91-1f34-42b7-b6a6-60a3a407f762",
   "metadata": {},
   "source": [
    "## Load and use models"
   ]
  },
  {
   "cell_type": "code",
   "execution_count": null,
   "id": "8b4ce5b9-b45d-487e-9703-984420615464",
   "metadata": {},
   "outputs": [],
   "source": [
    "# make sure you set up tracking uri to establish connection to mlflow remote tracking server if you haven't\n",
    "mlflow.set_tracking_uri(\"https://dagshub.com/jadon.ng/mario_vs_wario.mlflow\") # the tracking uri "
   ]
  },
  {
   "cell_type": "code",
   "execution_count": null,
   "id": "b1823b8c-d80f-40ab-af38-5107a00bdec5",
   "metadata": {},
   "outputs": [],
   "source": [
    "# Load model from registered model\n",
    "model_uri = \"models:/Wicked Wario Model/1\" # models:/<model name>/<version>\n",
    "model = mlflow.pyfunc.load_model(model_uri) "
   ]
  },
  {
   "cell_type": "markdown",
   "id": "3a88f340-ba74-4370-95b8-9766539103e4",
   "metadata": {},
   "source": [
    "The problem with the above method is that if you are logging the model on a different server/device than the device you are trying to load it on, there may be problems relating to the environment setting that make it unable to run (eg. if the computer you are using to load the model doesn't have tensorflow install/using different version of python, it may result in error)"
   ]
  },
  {
   "cell_type": "markdown",
   "id": "773e7899-c781-460d-b59f-7f79ae7a229e",
   "metadata": {},
   "source": [
    "## Example - Model Registry and Serving"
   ]
  },
  {
   "cell_type": "markdown",
   "id": "b775ed0f-d40d-4f08-aa2d-7ac783f6a215",
   "metadata": {},
   "source": [
    "### Create a very simple ML model"
   ]
  },
  {
   "cell_type": "code",
   "execution_count": 15,
   "id": "14ae7636-baf5-4ff4-a626-555ed1a205b2",
   "metadata": {},
   "outputs": [],
   "source": [
    "import mlflow\n",
    "from mlflow.models import infer_signature\n",
    "\n",
    "import pandas as pd\n",
    "from sklearn import datasets\n",
    "from sklearn.model_selection import train_test_split\n",
    "from sklearn.linear_model import LogisticRegression\n",
    "from sklearn.metrics import accuracy_score, precision_score, recall_score, f1_score"
   ]
  },
  {
   "cell_type": "code",
   "execution_count": 31,
   "id": "7adb73a9-f233-4df9-b93c-24e6a16446a4",
   "metadata": {},
   "outputs": [],
   "source": [
    "mlflow.set_tracking_uri(uri=\"https://dagshub.com/jadon.ng/mario_vs_wario.mlflow\")"
   ]
  },
  {
   "cell_type": "code",
   "execution_count": 33,
   "id": "def87900-b75f-4ce7-b5c2-8ec5f93aca3d",
   "metadata": {},
   "outputs": [],
   "source": [
    "# Load the Iris dataset\n",
    "X, y = datasets.load_iris(return_X_y=True)\n",
    "\n",
    "# Split the data into training and test sets\n",
    "X_train, X_test, y_train, y_test = train_test_split(X, y, test_size=0.2, random_state=42)\n",
    "\n",
    "# Define the model hyperparameters\n",
    "params = {\"solver\": \"lbfgs\", \"max_iter\": 1000, \"multi_class\": \"auto\", \"random_state\": 8888}\n",
    "\n",
    "# Train the model\n",
    "lr = LogisticRegression(**params)\n",
    "lr.fit(X_train, y_train)\n",
    "\n",
    "# Predict on the test set\n",
    "y_pred = lr.predict(X_test)\n",
    "\n",
    "# Calculate accuracy as a target loss metric\n",
    "accuracy = accuracy_score(y_test, y_pred)"
   ]
  },
  {
   "cell_type": "code",
   "execution_count": 34,
   "id": "ba720755-8c46-49d8-8e08-3ebf815af7ce",
   "metadata": {},
   "outputs": [
    {
     "name": "stderr",
     "output_type": "stream",
     "text": [
      "2024/01/04 12:49:41 INFO mlflow.tracking.fluent: Experiment with name 'Example Experiment' does not exist. Creating a new experiment.\n"
     ]
    },
    {
     "data": {
      "text/plain": [
       "<Experiment: artifact_location='mlflow-artifacts:/5dcf012e9b0d465e88c5a6683e69df66', creation_time=1704343781865, experiment_id='1', last_update_time=1704343781865, lifecycle_stage='active', name='Example Experiment', tags={}>"
      ]
     },
     "execution_count": 34,
     "metadata": {},
     "output_type": "execute_result"
    }
   ],
   "source": [
    "mlflow.set_experiment(\"Example Experiment\")"
   ]
  },
  {
   "cell_type": "markdown",
   "id": "c277cf51-b406-46c0-befa-c062458ffb14",
   "metadata": {},
   "source": [
    "### Log it on MLflow"
   ]
  },
  {
   "cell_type": "code",
   "execution_count": 35,
   "id": "eba6f866-1338-4a45-a8f1-79df612ab440",
   "metadata": {},
   "outputs": [
    {
     "name": "stderr",
     "output_type": "stream",
     "text": [
      "C:\\Users\\carnot\\anaconda3\\envs\\mlflow_testing\\Lib\\site-packages\\_distutils_hack\\__init__.py:33: UserWarning: Setuptools is replacing distutils.\n",
      "  warnings.warn(\"Setuptools is replacing distutils.\")\n",
      "Successfully registered model 'iris_model'.\n",
      "2024/01/04 12:55:53 INFO mlflow.tracking._model_registry.client: Waiting up to 300 seconds for model version to finish creation. Model name: iris_model, version 1\n",
      "Created version '1' of model 'iris_model'.\n"
     ]
    }
   ],
   "source": [
    "import os\n",
    "# Start an MLflow run\n",
    "with mlflow.start_run(run_name='run1'):\n",
    "    # Log the hyperparameters\n",
    "    mlflow.log_params(params)\n",
    "\n",
    "    # Log the loss metric\n",
    "    mlflow.log_metric(\"accuracy\", accuracy)\n",
    "\n",
    "    # Set a tag that we can use to remind ourselves what this run was for\n",
    "    mlflow.set_tag(\"Training Info\", \"Basic LR model for iris data\")\n",
    "\n",
    "    # Infer the model signature\n",
    "    signature = infer_signature(X_train, lr.predict(X_train))\n",
    "    \n",
    "    # Log the model\n",
    "    model_info = mlflow.sklearn.log_model(\n",
    "        sk_model=lr,\n",
    "        artifact_path='iris_model',\n",
    "        signature=signature,\n",
    "        input_example=X_train,\n",
    "        registered_model_name=\"iris_model\", # register the model directly with log_model function\n",
    "    )"
   ]
  },
  {
   "cell_type": "markdown",
   "id": "27432bef-ec1f-4868-9593-ebcfc6ec1d45",
   "metadata": {},
   "source": [
    "Alternatively, you can register the model seperately, see more here https://mlflow.org/docs/latest/model-registry.html"
   ]
  },
  {
   "cell_type": "markdown",
   "id": "dd0e76de-cfbc-4c8e-8ddb-a25f55e63b3b",
   "metadata": {},
   "source": [
    "### Transition model version stage to Production"
   ]
  },
  {
   "cell_type": "markdown",
   "id": "76eb2ada-e6aa-4334-897a-2b8dc42992be",
   "metadata": {},
   "source": [
    "You can update your model stages using mlflow API, alternatively, you can use the mlflow ui to change it manually in the 'Models' tab on top -> select the respective model -> update the stage"
   ]
  },
  {
   "cell_type": "code",
   "execution_count": null,
   "id": "89690e91-64f6-4d17-855a-f2255ea290a3",
   "metadata": {},
   "outputs": [],
   "source": [
    "# Change the stage of the model to 'Production'\n",
    "model_name = 'iris_model'\n",
    "model_version = 1\n",
    "\n",
    "client = mlflow.tracking.MlflowClient()\n",
    "client.transition_model_version_stage(\n",
    "    name=model_name,\n",
    "    version=model_version,\n",
    "    stage='Production'\n",
    ")"
   ]
  },
  {
   "cell_type": "markdown",
   "id": "394e19aa-7b44-4c77-b66e-434570b2ebf0",
   "metadata": {},
   "source": [
    "### Load the model and test it"
   ]
  },
  {
   "cell_type": "code",
   "execution_count": 66,
   "id": "8dd0bc39-22ea-4e8a-b9b5-dd1274704e72",
   "metadata": {},
   "outputs": [],
   "source": [
    "model_uri = \"models:/iris_model/1\" # models:/<model name>/<version>\n",
    "model_uri = \"models:/iris_model/staging\" # alternative instead of version\n",
    "model = mlflow.pyfunc.load_model(model_uri) "
   ]
  },
  {
   "cell_type": "code",
   "execution_count": 39,
   "id": "e650ace4-7d96-48c7-b8f7-e0407d369392",
   "metadata": {},
   "outputs": [],
   "source": [
    "predictions = model.predict(X_test)"
   ]
  },
  {
   "cell_type": "code",
   "execution_count": 40,
   "id": "9a5bd998-8b36-4de3-afcf-60905abef98e",
   "metadata": {},
   "outputs": [
    {
     "data": {
      "text/plain": [
       "array([1, 0, 2, 1, 1, 0, 1, 2, 1, 1, 2, 0, 0, 0, 0, 1, 2, 1, 1, 2, 0, 2,\n",
       "       0, 2, 2, 2, 2, 2, 0, 0])"
      ]
     },
     "execution_count": 40,
     "metadata": {},
     "output_type": "execute_result"
    }
   ],
   "source": [
    "predictions"
   ]
  },
  {
   "cell_type": "markdown",
   "id": "6ec36a77-d852-44ea-a65d-968980ef428e",
   "metadata": {},
   "source": [
    "### Serving the model locally with CLI\n",
    "\n",
    "https://mlflow.org/docs/latest/getting-started/quickstart-2/index.html#serve-the-model-locally"
   ]
  },
  {
   "cell_type": "markdown",
   "id": "db70a4b3-4b93-43ce-8af8-1aaca4a24cd4",
   "metadata": {},
   "source": [
    "**Make sure you declared the tracking uri on your terminal first**\n",
    "\n",
    "For Mac/Linux/Unix\n",
    "\n",
    "`export MLFLOW_TRACKING_URI=\"https://dagshub.com/jadon.ng/mario_vs_wario.mlflow\"`\n",
    "\n",
    "For Windows\n",
    "`set MLFLOW_TRACKING_URI=\"https://dagshub.com/jadon.ng/mario_vs_wario.mlflow\"`"
   ]
  },
  {
   "cell_type": "markdown",
   "id": "97f84ae0-c1be-49f6-92d7-0a30a7cbdd5e",
   "metadata": {},
   "source": [
    "**Serve the model**\n",
    "`mlflow models serve -m \"models:/iris_model/1\" --port 5002`"
   ]
  },
  {
   "cell_type": "markdown",
   "id": "5818035a-449c-4a81-8200-6558e1ee311e",
   "metadata": {},
   "source": [
    "**Access the model with REST API through curl command** <br>\n",
    "`curl http://127.0.0.1:5002/invocations -H 'Content-Type: application/json' -d '{ \"dataframe_split\": { \"data\": [[6.1, 2.8, 4.7, 1.2], [5.7, 3.8, 1.7, 0.3]] } }'`"
   ]
  },
  {
   "cell_type": "markdown",
   "id": "ae83f631-6770-4bcd-8713-0bb7cf49ff4a",
   "metadata": {},
   "source": [
    "Alternatively you can get the request on Python, below is an example with image as input\n",
    "\n",
    "https://blog.devgenius.io/mlflow-tutorial-ml-tracking-and-serving-49abd929c8d9"
   ]
  },
  {
   "cell_type": "code",
   "execution_count": null,
   "id": "ac22566f-e53b-4279-889f-a685223f68be",
   "metadata": {},
   "outputs": [],
   "source": [
    "# Note that you still need to set tracking uri and serve the model on a specified port before running this\n",
    "from pathlib import Path\n",
    "import requests\n",
    "import os\n",
    "from torch.nn import functional as F\n",
    "from image_transform import ImageTransform\n",
    "from PIL import Image\n",
    "\n",
    "base_dir = Path(__file__).absolute().parent.parent\n",
    "data_dir = base_dir.joinpath('data')\n",
    "test_folder = data_dir.joinpath('test')\n",
    "image = os.listdir(test_folder)[0]\n",
    "\n",
    "if __name__ == \"__main__\":\n",
    "    endpoint = \"http://localhost:5002/invocations\"\n",
    "    data = {\n",
    "        'instances': str(test_folder.joinpath(image))\n",
    "    }\n",
    "    # do a post request\n",
    "    response = requests.post(endpoint, json=data)\n",
    "    print(response.json())"
   ]
  },
  {
   "cell_type": "markdown",
   "id": "528b6ffb-09b2-4e6d-b251-e56ea230b785",
   "metadata": {},
   "source": [
    "### Build a docker container image for your model\n",
    "\n",
    "https://mlflow.org/docs/latest/getting-started/quickstart-2/index.html#build-a-container-image-for-your-model"
   ]
  },
  {
   "cell_type": "markdown",
   "id": "348a3826-a998-4813-b3f0-f855d5de3de8",
   "metadata": {},
   "source": [
    "**Build the docker image**\n",
    "\n",
    "`mlflow models build-docker --model-uri \"models:/iris_model/1\" --name \"iris\"`"
   ]
  },
  {
   "cell_type": "markdown",
   "id": "1f6bd394-211d-4155-8cca-bd80103c98d6",
   "metadata": {},
   "source": [
    "**Run the docker**\n",
    "\n",
    "`docker run -p 5002:8080 iris`"
   ]
  },
  {
   "cell_type": "markdown",
   "id": "1b5050cd-ff4b-42e4-83b8-bbefa3170845",
   "metadata": {},
   "source": [
    "**Use the model, basically same method with local serving, remember to input the right port**\n",
    "\n",
    "`curl http://127.0.0.1:8080/invocations -H 'Content-Type: application/json' -d '{ \"dataframe_split\": { \"data\": [[6.1, 2.8, 4.7, 1.2], [5.7, 3.8, 1.7, 0.3]] } }'`"
   ]
  }
 ],
 "metadata": {
  "kernelspec": {
   "display_name": "Python 3 (ipykernel)",
   "language": "python",
   "name": "python3"
  },
  "language_info": {
   "codemirror_mode": {
    "name": "ipython",
    "version": 3
   },
   "file_extension": ".py",
   "mimetype": "text/x-python",
   "name": "python",
   "nbconvert_exporter": "python",
   "pygments_lexer": "ipython3",
   "version": "3.11.5"
  }
 },
 "nbformat": 4,
 "nbformat_minor": 5
}
