{
 "cells": [
  {
   "cell_type": "markdown",
   "id": "d4b93c99-dd92-43f5-904a-c40aa741a726",
   "metadata": {},
   "source": [
    "## **Example run with mlflow.prophet**\n",
    "\n",
    "This examples uses mlflow built in *mlflow.prophet.log_model* to log the model\n",
    "\n",
    "Example is copied from mlflow offical github https://github.com/mlflow/mlflow/blob/master/examples/prophet/train.py"
   ]
  },
  {
   "cell_type": "code",
   "execution_count": 29,
   "id": "437ca555-288d-4353-97c7-59dff789ee1f",
   "metadata": {
    "tags": []
   },
   "outputs": [],
   "source": [
    "import json\n",
    "\n",
    "import numpy as np\n",
    "import pandas as pd\n",
    "from prophet import Prophet, serialize\n",
    "from prophet.diagnostics import cross_validation, performance_metrics\n",
    "\n",
    "import mlflow\n",
    "from mlflow.models import infer_signature\n",
    "\n",
    "SOURCE_DATA = (\n",
    "    \"https://raw.githubusercontent.com/facebook/prophet/master/examples/example_retail_sales.csv\"\n",
    ")\n",
    "ARTIFACT_PATH = \"model\"\n",
    "np.random.seed(12345)"
   ]
  },
  {
   "cell_type": "code",
   "execution_count": 30,
   "id": "205c4e94-1303-42be-af8b-6e486b7f0cf1",
   "metadata": {},
   "outputs": [],
   "source": [
    "def extract_params(pr_model):\n",
    "    return {attr: getattr(pr_model, attr) for attr in serialize.SIMPLE_ATTRIBUTES}\n",
    "\n",
    "\n",
    "sales_data = pd.read_csv(SOURCE_DATA)"
   ]
  },
  {
   "cell_type": "code",
   "execution_count": 31,
   "id": "232f221e-8dab-4e2a-ba8a-56104075a367",
   "metadata": {},
   "outputs": [
    {
     "data": {
      "text/html": [
       "<div>\n",
       "<style scoped>\n",
       "    .dataframe tbody tr th:only-of-type {\n",
       "        vertical-align: middle;\n",
       "    }\n",
       "\n",
       "    .dataframe tbody tr th {\n",
       "        vertical-align: top;\n",
       "    }\n",
       "\n",
       "    .dataframe thead th {\n",
       "        text-align: right;\n",
       "    }\n",
       "</style>\n",
       "<table border=\"1\" class=\"dataframe\">\n",
       "  <thead>\n",
       "    <tr style=\"text-align: right;\">\n",
       "      <th></th>\n",
       "      <th>ds</th>\n",
       "      <th>y</th>\n",
       "    </tr>\n",
       "  </thead>\n",
       "  <tbody>\n",
       "    <tr>\n",
       "      <th>0</th>\n",
       "      <td>1992-01-01</td>\n",
       "      <td>146376</td>\n",
       "    </tr>\n",
       "    <tr>\n",
       "      <th>1</th>\n",
       "      <td>1992-02-01</td>\n",
       "      <td>147079</td>\n",
       "    </tr>\n",
       "    <tr>\n",
       "      <th>2</th>\n",
       "      <td>1992-03-01</td>\n",
       "      <td>159336</td>\n",
       "    </tr>\n",
       "    <tr>\n",
       "      <th>3</th>\n",
       "      <td>1992-04-01</td>\n",
       "      <td>163669</td>\n",
       "    </tr>\n",
       "    <tr>\n",
       "      <th>4</th>\n",
       "      <td>1992-05-01</td>\n",
       "      <td>170068</td>\n",
       "    </tr>\n",
       "  </tbody>\n",
       "</table>\n",
       "</div>"
      ],
      "text/plain": [
       "           ds       y\n",
       "0  1992-01-01  146376\n",
       "1  1992-02-01  147079\n",
       "2  1992-03-01  159336\n",
       "3  1992-04-01  163669\n",
       "4  1992-05-01  170068"
      ]
     },
     "execution_count": 31,
     "metadata": {},
     "output_type": "execute_result"
    }
   ],
   "source": [
    "sales_data.head()"
   ]
  },
  {
   "cell_type": "code",
   "execution_count": 32,
   "id": "39b178be-7105-407d-996a-07b063c195cf",
   "metadata": {},
   "outputs": [
    {
     "name": "stdout",
     "output_type": "stream",
     "text": [
      "env: MLFLOW_TRACKING_URI=sqlite:///mlrun_prophet.db\n"
     ]
    }
   ],
   "source": [
    "%env MLFLOW_TRACKING_URI=sqlite:///mlrun_prophet.db"
   ]
  },
  {
   "cell_type": "code",
   "execution_count": 36,
   "id": "93c20d0c-f6a2-41e8-af4b-867232490910",
   "metadata": {},
   "outputs": [],
   "source": [
    "mlflow.set_tracking_uri(\"http://127.0.0.1:8080\")"
   ]
  },
  {
   "cell_type": "code",
   "execution_count": null,
   "id": "f18eaf38-8f79-4d02-8d4a-d90908c916f0",
   "metadata": {},
   "outputs": [],
   "source": [
    "with mlflow.start_run():\n",
    "    model = Prophet().fit(sales_data)\n",
    "\n",
    "    params = extract_params(model)\n",
    "\n",
    "    metric_keys = [\"mse\", \"rmse\", \"mae\", \"mape\", \"mdape\", \"smape\", \"coverage\"]\n",
    "    metrics_raw = cross_validation(\n",
    "        model=model,\n",
    "        horizon=\"365 days\",\n",
    "        period=\"180 days\",\n",
    "        initial=\"710 days\",\n",
    "        parallel=\"threads\",\n",
    "        disable_tqdm=True,\n",
    "    )\n",
    "    cv_metrics = performance_metrics(metrics_raw)\n",
    "    metrics = {k: cv_metrics[k].mean() for k in metric_keys}\n",
    "\n",
    "    print(f\"Logged Metrics: \\n{json.dumps(metrics, indent=2)}\")\n",
    "    print(f\"Logged Params: \\n{json.dumps(params, indent=2)}\")\n",
    "\n",
    "    train = model.history\n",
    "    predictions = model.predict(model.make_future_dataframe(30))\n",
    "    signature = infer_signature(train, predictions)\n",
    "\n",
    "    mlflow.prophet.log_model(model, artifact_path=ARTIFACT_PATH, signature=signature)\n",
    "    mlflow.log_params(params)\n",
    "    mlflow.log_metrics(metrics)\n",
    "    model_uri = mlflow.get_artifact_uri(ARTIFACT_PATH)\n",
    "    print(f\"Model artifact logged to: {model_uri}\")\n",
    "\n",
    "\n",
    "# loaded_model = mlflow.prophet.load_model(model_uri)\n",
    "\n",
    "# forecast = loaded_model.predict(loaded_model.make_future_dataframe(60))\n",
    "\n",
    "# print(f\"forecast:\\n${forecast.head(30)}\")"
   ]
  },
  {
   "cell_type": "markdown",
   "id": "5232f2a7-5d6d-45e8-8472-ce7e6b2e0231",
   "metadata": {},
   "source": [
    "After setting up the docker image and running the container (see more on notebook 4. Docker Quick Guide), we attempt to call the api"
   ]
  },
  {
   "cell_type": "markdown",
   "id": "a42540e7-84e7-4daa-aabd-5dd3a56850fd",
   "metadata": {},
   "source": [
    "In short, you want to\n",
    "\n",
    "**Connect to mlflow tracking uri**\n",
    "\n",
    "`export MLFLOW_TRACKING_URI=\"http://127.0.0.1:8080\"`\n",
    "\n",
    "`$env:MLFLOW_TRACKING_URI=\"http://127.0.0.1:8080\"`\n",
    "\n",
    "**Build image**\n",
    "\n",
    "`mlflow models build-docker --model-uri \"models:/<model name>/<version>\" --name \"<image name>\"`\n",
    "\n",
    "**Run container**\n",
    "\n",
    "`docker run -p 5002:8080 <image name>`"
   ]
  },
  {
   "cell_type": "code",
   "execution_count": 62,
   "id": "0c23fbcd-04a1-4b92-80d3-e3de746daba5",
   "metadata": {},
   "outputs": [
    {
     "name": "stdout",
     "output_type": "stream",
     "text": [
      "{'predictions': [{'ds': '2016-06-01T00:00:00', 'trend': 464314.1915900584, 'yhat_lower': 456857.610812237, 'yhat_upper': 477214.8479718002, 'trend_lower': 464314.1915900584, 'trend_upper': 464314.1915900584, 'additive_terms': 2862.888577091087, 'additive_terms_lower': 2862.888577091087, 'additive_terms_upper': 2862.888577091087, 'yearly': 2862.888577091087, 'yearly_lower': 2862.888577091087, 'yearly_upper': 2862.888577091087, 'multiplicative_terms': 0.0, 'multiplicative_terms_lower': 0.0, 'multiplicative_terms_upper': 0.0, 'yhat': 467177.0801671495}, {'ds': '2016-06-01T00:00:00', 'trend': 464314.1915900584, 'yhat_lower': 457352.15333530406, 'yhat_upper': 477562.4071601084, 'trend_lower': 464314.1915900584, 'trend_upper': 464314.1915900584, 'additive_terms': 2862.888577091087, 'additive_terms_lower': 2862.888577091087, 'additive_terms_upper': 2862.888577091087, 'yearly': 2862.888577091087, 'yearly_lower': 2862.888577091087, 'yearly_upper': 2862.888577091087, 'multiplicative_terms': 0.0, 'multiplicative_terms_lower': 0.0, 'multiplicative_terms_upper': 0.0, 'yhat': 467177.0801671495}]}\n"
     ]
    }
   ],
   "source": [
    "import requests\n",
    "\n",
    "endpoint = \"http://localhost:5002/invocations\" # make sure the port number matches the one you input in terminal\n",
    "data = {\n",
    "    \"dataframe_split\": {  \n",
    "        \"columns\": ['ds','y','floor','t','y_scaled'],\n",
    "        \"data\": [['2016-06-01',0,0,0,0],['2016-06-01',10,10,10,120]],\n",
    "        \n",
    "    }\n",
    "}\n",
    "# do a post request\n",
    "response = requests.post(endpoint, json=data)\n",
    "print(response.json())"
   ]
  },
  {
   "cell_type": "markdown",
   "id": "4abffaef-7578-4f6a-8441-52bb1a0fd65c",
   "metadata": {},
   "source": [
    "**Noted that due to the nature of prophet, you will need to declare extra columns as demonstrated and pass in some random values inside (all zeros in this demonstration)**"
   ]
  },
  {
   "cell_type": "markdown",
   "id": "c2a55b5f-6259-469b-9abe-1396a9cc1f7d",
   "metadata": {},
   "source": [
    "## **Logging with pyfunc**"
   ]
  },
  {
   "cell_type": "code",
   "execution_count": 38,
   "id": "2bfc28d0-3212-49df-a550-0b15ab525bef",
   "metadata": {},
   "outputs": [],
   "source": [
    "import json\n",
    "\n",
    "import numpy as np\n",
    "import pandas as pd\n",
    "from prophet import Prophet, serialize\n",
    "from prophet.diagnostics import cross_validation, performance_metrics\n",
    "\n",
    "import mlflow\n",
    "from mlflow.models import infer_signature\n",
    "\n",
    "SOURCE_DATA = (\n",
    "    \"https://raw.githubusercontent.com/facebook/prophet/master/examples/example_retail_sales.csv\"\n",
    ")\n",
    "ARTIFACT_PATH = \"model\"\n",
    "np.random.seed(12345)\n",
    "\n",
    "sales_data = pd.read_csv(SOURCE_DATA)"
   ]
  },
  {
   "cell_type": "code",
   "execution_count": 5,
   "id": "78609c66-f72c-4e22-8394-916d9705aea4",
   "metadata": {},
   "outputs": [
    {
     "name": "stdout",
     "output_type": "stream",
     "text": [
      "env: MLFLOW_TRACKING_URI=sqlite:///prophet_mlrun.db\n"
     ]
    }
   ],
   "source": [
    "%env MLFLOW_TRACKING_URI=sqlite:///prophet_mlrun.db"
   ]
  },
  {
   "cell_type": "code",
   "execution_count": 6,
   "id": "ecc60464-1566-472e-9b58-896c03468686",
   "metadata": {},
   "outputs": [],
   "source": [
    "mlflow.set_tracking_uri(\"http://127.0.0.1:8080\")"
   ]
  },
  {
   "cell_type": "code",
   "execution_count": 39,
   "id": "41887e27-eaaf-487a-bceb-5dc68e575f0e",
   "metadata": {},
   "outputs": [],
   "source": [
    "class ProphetWrapper(mlflow.pyfunc.PythonModel):\n",
    "    def __init__(self):\n",
    "        self.model = Prophet()\n",
    "    def fit(self):\n",
    "        self.model.fit(sales_data)\n",
    "        train = self.model.history\n",
    "        predictions = self.model.predict(model.make_future_dataframe(30))\n",
    "        signature = infer_signature(pd.DataFrame({'ds': [len(train)]}), predictions)\n",
    "\n",
    "    def predict(self, context, model_input):\n",
    "        future = self.model.make_future_dataframe(periods=model_input)\n",
    "        forecast = self.model.predict(future)\n",
    "        return {'prediction':forecast}"
   ]
  },
  {
   "cell_type": "code",
   "execution_count": 57,
   "id": "3087068d-f7e0-4438-923d-f06dd2c5e5bd",
   "metadata": {},
   "outputs": [],
   "source": [
    "import cloudpickle\n",
    "conda_env = {\n",
    "    'channels': ['defaults'],\n",
    "    'dependencies': [\n",
    "        'python=3.11.5',\n",
    "        'pip',\n",
    "          {\n",
    "            'pip': [\n",
    "                'mlflow',\n",
    "                'pillow',\n",
    "                'cloudpickle=={}'.format(cloudpickle.__version__),\n",
    "                'cmdstanpy',\n",
    "                'cmdstanpy.compilation',\n",
    "                'cffi',\n",
    "                'defusedxml',\n",
    "                'holidays',\n",
    "                'importlib-resources',\n",
    "                'ipython',\n",
    "                'matplotlib',\n",
    "                'numpy',\n",
    "                'packaging',\n",
    "                'pandas',\n",
    "                'prophet',\n",
    "                'stanio',\n",
    "                'tqdm'\n",
    "                \n",
    "            ],\n",
    "          },\n",
    "    ],\n",
    "    'name': 'prophet_env'\n",
    "}"
   ]
  },
  {
   "cell_type": "code",
   "execution_count": 58,
   "id": "8e2b67ac-fa6d-4a6a-8a16-b239f4940d6e",
   "metadata": {},
   "outputs": [
    {
     "name": "stderr",
     "output_type": "stream",
     "text": [
      "17:50:59 - cmdstanpy - INFO - Chain [1] start processing\n",
      "17:50:59 - cmdstanpy - INFO - Chain [1] done processing\n",
      "C:\\Users\\carnot\\anaconda3\\envs\\mlflow_testing\\Lib\\site-packages\\mlflow\\models\\signature.py:214: UserWarning: Hint: Inferred schema contains integer column(s). Integer columns in Python cannot represent missing values. If your input data contains missing values at inference time, it will be encoded as floats and will cause a schema enforcement error. The best way to avoid this problem is to infer the model schema based on a realistic data sample (training dataset) that includes missing values. Alternatively, you can declare integer columns as doubles (float64) whenever these columns may have missing values. See `Handling Integers With Missing Values <https://www.mlflow.org/docs/latest/models.html#handling-integers-with-missing-values>`_ for more details.\n",
      "  inputs = _infer_schema(model_input)\n",
      "C:\\Users\\carnot\\anaconda3\\envs\\mlflow_testing\\Lib\\site-packages\\_distutils_hack\\__init__.py:18: UserWarning: Distutils was imported before Setuptools, but importing Setuptools also replaces the `distutils` module in `sys.modules`. This may lead to undesirable behaviors or errors. To avoid these issues, avoid using distutils directly, ensure that setuptools is installed in the traditional way (e.g. not an editable install), and/or make sure that setuptools is always imported before distutils.\n",
      "  warnings.warn(\n",
      "C:\\Users\\carnot\\anaconda3\\envs\\mlflow_testing\\Lib\\site-packages\\_distutils_hack\\__init__.py:33: UserWarning: Setuptools is replacing distutils.\n",
      "  warnings.warn(\"Setuptools is replacing distutils.\")\n",
      "Registered model 'prophetwrapper_model' already exists. Creating a new version of this model...\n",
      "2024/01/12 17:51:00 INFO mlflow.tracking._model_registry.client: Waiting up to 300 seconds for model version to finish creation. Model name: prophetwrapper_model, version 5\n",
      "Created version '5' of model 'prophetwrapper_model'.\n"
     ]
    }
   ],
   "source": [
    "custom_model = ProphetWrapper()\n",
    "custom_model.fit()\n",
    "with mlflow.start_run():\n",
    "    # log the Python function model\n",
    "    mlflow.pyfunc.log_model(\n",
    "        python_model=custom_model,\n",
    "        conda_env=conda_env,\n",
    "        artifact_path=\"prophetwrapper\",\n",
    "        registered_model_name=\"prophetwrapper_model\",\n",
    "    )"
   ]
  },
  {
   "cell_type": "code",
   "execution_count": 59,
   "id": "e70bb83f-2632-40ef-8e6b-a009014d607c",
   "metadata": {},
   "outputs": [
    {
     "data": {
      "application/vnd.jupyter.widget-view+json": {
       "model_id": "05737aaa3040481e8f0ff9b4503f8d85",
       "version_major": 2,
       "version_minor": 0
      },
      "text/plain": [
       "Downloading artifacts:   0%|          | 0/5 [00:00<?, ?it/s]"
      ]
     },
     "metadata": {},
     "output_type": "display_data"
    }
   ],
   "source": [
    "loaded_model1 = mlflow.pyfunc.load_model(\"models:/prophetwrapper_model/5\")"
   ]
  },
  {
   "cell_type": "code",
   "execution_count": 60,
   "id": "8afe1ede-026b-4ce5-adbc-49787e7dd45e",
   "metadata": {},
   "outputs": [
    {
     "data": {
      "text/html": [
       "<div>\n",
       "<style scoped>\n",
       "    .dataframe tbody tr th:only-of-type {\n",
       "        vertical-align: middle;\n",
       "    }\n",
       "\n",
       "    .dataframe tbody tr th {\n",
       "        vertical-align: top;\n",
       "    }\n",
       "\n",
       "    .dataframe thead th {\n",
       "        text-align: right;\n",
       "    }\n",
       "</style>\n",
       "<table border=\"1\" class=\"dataframe\">\n",
       "  <thead>\n",
       "    <tr style=\"text-align: right;\">\n",
       "      <th></th>\n",
       "      <th>ds</th>\n",
       "      <th>trend</th>\n",
       "      <th>yhat_lower</th>\n",
       "      <th>yhat_upper</th>\n",
       "      <th>trend_lower</th>\n",
       "      <th>trend_upper</th>\n",
       "      <th>additive_terms</th>\n",
       "      <th>additive_terms_lower</th>\n",
       "      <th>additive_terms_upper</th>\n",
       "      <th>yearly</th>\n",
       "      <th>yearly_lower</th>\n",
       "      <th>yearly_upper</th>\n",
       "      <th>multiplicative_terms</th>\n",
       "      <th>multiplicative_terms_lower</th>\n",
       "      <th>multiplicative_terms_upper</th>\n",
       "      <th>yhat</th>\n",
       "    </tr>\n",
       "  </thead>\n",
       "  <tbody>\n",
       "    <tr>\n",
       "      <th>318</th>\n",
       "      <td>2016-05-27</td>\n",
       "      <td>464118.007526</td>\n",
       "      <td>468510.505073</td>\n",
       "      <td>488386.588114</td>\n",
       "      <td>464118.007526</td>\n",
       "      <td>464118.007526</td>\n",
       "      <td>14683.607789</td>\n",
       "      <td>14683.607789</td>\n",
       "      <td>14683.607789</td>\n",
       "      <td>14683.607789</td>\n",
       "      <td>14683.607789</td>\n",
       "      <td>14683.607789</td>\n",
       "      <td>0.0</td>\n",
       "      <td>0.0</td>\n",
       "      <td>0.0</td>\n",
       "      <td>478801.615315</td>\n",
       "    </tr>\n",
       "    <tr>\n",
       "      <th>319</th>\n",
       "      <td>2016-05-28</td>\n",
       "      <td>464164.339417</td>\n",
       "      <td>465386.892923</td>\n",
       "      <td>487087.198938</td>\n",
       "      <td>464164.339417</td>\n",
       "      <td>464164.339417</td>\n",
       "      <td>12102.932457</td>\n",
       "      <td>12102.932457</td>\n",
       "      <td>12102.932457</td>\n",
       "      <td>12102.932457</td>\n",
       "      <td>12102.932457</td>\n",
       "      <td>12102.932457</td>\n",
       "      <td>0.0</td>\n",
       "      <td>0.0</td>\n",
       "      <td>0.0</td>\n",
       "      <td>476267.271874</td>\n",
       "    </tr>\n",
       "    <tr>\n",
       "      <th>320</th>\n",
       "      <td>2016-05-29</td>\n",
       "      <td>464210.671308</td>\n",
       "      <td>463630.675942</td>\n",
       "      <td>483961.969856</td>\n",
       "      <td>464210.671308</td>\n",
       "      <td>464210.671308</td>\n",
       "      <td>9568.611892</td>\n",
       "      <td>9568.611892</td>\n",
       "      <td>9568.611892</td>\n",
       "      <td>9568.611892</td>\n",
       "      <td>9568.611892</td>\n",
       "      <td>9568.611892</td>\n",
       "      <td>0.0</td>\n",
       "      <td>0.0</td>\n",
       "      <td>0.0</td>\n",
       "      <td>473779.283200</td>\n",
       "    </tr>\n",
       "    <tr>\n",
       "      <th>321</th>\n",
       "      <td>2016-05-30</td>\n",
       "      <td>464257.003199</td>\n",
       "      <td>460810.688351</td>\n",
       "      <td>481699.514173</td>\n",
       "      <td>464257.003199</td>\n",
       "      <td>464257.003199</td>\n",
       "      <td>7142.929363</td>\n",
       "      <td>7142.929363</td>\n",
       "      <td>7142.929363</td>\n",
       "      <td>7142.929363</td>\n",
       "      <td>7142.929363</td>\n",
       "      <td>7142.929363</td>\n",
       "      <td>0.0</td>\n",
       "      <td>0.0</td>\n",
       "      <td>0.0</td>\n",
       "      <td>471399.932562</td>\n",
       "    </tr>\n",
       "    <tr>\n",
       "      <th>322</th>\n",
       "      <td>2016-05-31</td>\n",
       "      <td>464303.335090</td>\n",
       "      <td>459530.554542</td>\n",
       "      <td>479879.276449</td>\n",
       "      <td>464303.335090</td>\n",
       "      <td>464303.335090</td>\n",
       "      <td>4885.008122</td>\n",
       "      <td>4885.008122</td>\n",
       "      <td>4885.008122</td>\n",
       "      <td>4885.008122</td>\n",
       "      <td>4885.008122</td>\n",
       "      <td>4885.008122</td>\n",
       "      <td>0.0</td>\n",
       "      <td>0.0</td>\n",
       "      <td>0.0</td>\n",
       "      <td>469188.343212</td>\n",
       "    </tr>\n",
       "  </tbody>\n",
       "</table>\n",
       "</div>"
      ],
      "text/plain": [
       "            ds          trend     yhat_lower     yhat_upper    trend_lower  \\\n",
       "318 2016-05-27  464118.007526  468510.505073  488386.588114  464118.007526   \n",
       "319 2016-05-28  464164.339417  465386.892923  487087.198938  464164.339417   \n",
       "320 2016-05-29  464210.671308  463630.675942  483961.969856  464210.671308   \n",
       "321 2016-05-30  464257.003199  460810.688351  481699.514173  464257.003199   \n",
       "322 2016-05-31  464303.335090  459530.554542  479879.276449  464303.335090   \n",
       "\n",
       "       trend_upper  additive_terms  additive_terms_lower  \\\n",
       "318  464118.007526    14683.607789          14683.607789   \n",
       "319  464164.339417    12102.932457          12102.932457   \n",
       "320  464210.671308     9568.611892           9568.611892   \n",
       "321  464257.003199     7142.929363           7142.929363   \n",
       "322  464303.335090     4885.008122           4885.008122   \n",
       "\n",
       "     additive_terms_upper        yearly  yearly_lower  yearly_upper  \\\n",
       "318          14683.607789  14683.607789  14683.607789  14683.607789   \n",
       "319          12102.932457  12102.932457  12102.932457  12102.932457   \n",
       "320           9568.611892   9568.611892   9568.611892   9568.611892   \n",
       "321           7142.929363   7142.929363   7142.929363   7142.929363   \n",
       "322           4885.008122   4885.008122   4885.008122   4885.008122   \n",
       "\n",
       "     multiplicative_terms  multiplicative_terms_lower  \\\n",
       "318                   0.0                         0.0   \n",
       "319                   0.0                         0.0   \n",
       "320                   0.0                         0.0   \n",
       "321                   0.0                         0.0   \n",
       "322                   0.0                         0.0   \n",
       "\n",
       "     multiplicative_terms_upper           yhat  \n",
       "318                         0.0  478801.615315  \n",
       "319                         0.0  476267.271874  \n",
       "320                         0.0  473779.283200  \n",
       "321                         0.0  471399.932562  \n",
       "322                         0.0  469188.343212  "
      ]
     },
     "execution_count": 60,
     "metadata": {},
     "output_type": "execute_result"
    }
   ],
   "source": [
    "loaded_model1.predict(30)['prediction'].tail()"
   ]
  },
  {
   "cell_type": "code",
   "execution_count": 50,
   "id": "22fd875e-76db-475e-b83e-a855a2fbe5e0",
   "metadata": {},
   "outputs": [
    {
     "ename": "ConnectionError",
     "evalue": "HTTPConnectionPool(host='localhost', port=5002): Max retries exceeded with url: /invocations (Caused by NewConnectionError('<urllib3.connection.HTTPConnection object at 0x0000015C8A5CFED0>: Failed to establish a new connection: [WinError 10061] No connection could be made because the target machine actively refused it'))",
     "output_type": "error",
     "traceback": [
      "\u001b[1;31m---------------------------------------------------------------------------\u001b[0m",
      "\u001b[1;31mConnectionRefusedError\u001b[0m                    Traceback (most recent call last)",
      "File \u001b[1;32m~\\anaconda3\\envs\\mlflow_testing\\Lib\\site-packages\\urllib3\\connection.py:174\u001b[0m, in \u001b[0;36mHTTPConnection._new_conn\u001b[1;34m(self)\u001b[0m\n\u001b[0;32m    173\u001b[0m \u001b[38;5;28;01mtry\u001b[39;00m:\n\u001b[1;32m--> 174\u001b[0m     conn \u001b[38;5;241m=\u001b[39m connection\u001b[38;5;241m.\u001b[39mcreate_connection(\n\u001b[0;32m    175\u001b[0m         (\u001b[38;5;28mself\u001b[39m\u001b[38;5;241m.\u001b[39m_dns_host, \u001b[38;5;28mself\u001b[39m\u001b[38;5;241m.\u001b[39mport), \u001b[38;5;28mself\u001b[39m\u001b[38;5;241m.\u001b[39mtimeout, \u001b[38;5;241m*\u001b[39m\u001b[38;5;241m*\u001b[39mextra_kw\n\u001b[0;32m    176\u001b[0m     )\n\u001b[0;32m    178\u001b[0m \u001b[38;5;28;01mexcept\u001b[39;00m SocketTimeout:\n",
      "File \u001b[1;32m~\\anaconda3\\envs\\mlflow_testing\\Lib\\site-packages\\urllib3\\util\\connection.py:95\u001b[0m, in \u001b[0;36mcreate_connection\u001b[1;34m(address, timeout, source_address, socket_options)\u001b[0m\n\u001b[0;32m     94\u001b[0m \u001b[38;5;28;01mif\u001b[39;00m err \u001b[38;5;129;01mis\u001b[39;00m \u001b[38;5;129;01mnot\u001b[39;00m \u001b[38;5;28;01mNone\u001b[39;00m:\n\u001b[1;32m---> 95\u001b[0m     \u001b[38;5;28;01mraise\u001b[39;00m err\n\u001b[0;32m     97\u001b[0m \u001b[38;5;28;01mraise\u001b[39;00m socket\u001b[38;5;241m.\u001b[39merror(\u001b[38;5;124m\"\u001b[39m\u001b[38;5;124mgetaddrinfo returns an empty list\u001b[39m\u001b[38;5;124m\"\u001b[39m)\n",
      "File \u001b[1;32m~\\anaconda3\\envs\\mlflow_testing\\Lib\\site-packages\\urllib3\\util\\connection.py:85\u001b[0m, in \u001b[0;36mcreate_connection\u001b[1;34m(address, timeout, source_address, socket_options)\u001b[0m\n\u001b[0;32m     84\u001b[0m     sock\u001b[38;5;241m.\u001b[39mbind(source_address)\n\u001b[1;32m---> 85\u001b[0m sock\u001b[38;5;241m.\u001b[39mconnect(sa)\n\u001b[0;32m     86\u001b[0m \u001b[38;5;28;01mreturn\u001b[39;00m sock\n",
      "\u001b[1;31mConnectionRefusedError\u001b[0m: [WinError 10061] No connection could be made because the target machine actively refused it",
      "\nDuring handling of the above exception, another exception occurred:\n",
      "\u001b[1;31mNewConnectionError\u001b[0m                        Traceback (most recent call last)",
      "File \u001b[1;32m~\\anaconda3\\envs\\mlflow_testing\\Lib\\site-packages\\urllib3\\connectionpool.py:715\u001b[0m, in \u001b[0;36mHTTPConnectionPool.urlopen\u001b[1;34m(self, method, url, body, headers, retries, redirect, assert_same_host, timeout, pool_timeout, release_conn, chunked, body_pos, **response_kw)\u001b[0m\n\u001b[0;32m    714\u001b[0m \u001b[38;5;66;03m# Make the request on the httplib connection object.\u001b[39;00m\n\u001b[1;32m--> 715\u001b[0m httplib_response \u001b[38;5;241m=\u001b[39m \u001b[38;5;28mself\u001b[39m\u001b[38;5;241m.\u001b[39m_make_request(\n\u001b[0;32m    716\u001b[0m     conn,\n\u001b[0;32m    717\u001b[0m     method,\n\u001b[0;32m    718\u001b[0m     url,\n\u001b[0;32m    719\u001b[0m     timeout\u001b[38;5;241m=\u001b[39mtimeout_obj,\n\u001b[0;32m    720\u001b[0m     body\u001b[38;5;241m=\u001b[39mbody,\n\u001b[0;32m    721\u001b[0m     headers\u001b[38;5;241m=\u001b[39mheaders,\n\u001b[0;32m    722\u001b[0m     chunked\u001b[38;5;241m=\u001b[39mchunked,\n\u001b[0;32m    723\u001b[0m )\n\u001b[0;32m    725\u001b[0m \u001b[38;5;66;03m# If we're going to release the connection in ``finally:``, then\u001b[39;00m\n\u001b[0;32m    726\u001b[0m \u001b[38;5;66;03m# the response doesn't need to know about the connection. Otherwise\u001b[39;00m\n\u001b[0;32m    727\u001b[0m \u001b[38;5;66;03m# it will also try to release it and we'll have a double-release\u001b[39;00m\n\u001b[0;32m    728\u001b[0m \u001b[38;5;66;03m# mess.\u001b[39;00m\n",
      "File \u001b[1;32m~\\anaconda3\\envs\\mlflow_testing\\Lib\\site-packages\\urllib3\\connectionpool.py:416\u001b[0m, in \u001b[0;36mHTTPConnectionPool._make_request\u001b[1;34m(self, conn, method, url, timeout, chunked, **httplib_request_kw)\u001b[0m\n\u001b[0;32m    415\u001b[0m     \u001b[38;5;28;01melse\u001b[39;00m:\n\u001b[1;32m--> 416\u001b[0m         conn\u001b[38;5;241m.\u001b[39mrequest(method, url, \u001b[38;5;241m*\u001b[39m\u001b[38;5;241m*\u001b[39mhttplib_request_kw)\n\u001b[0;32m    418\u001b[0m \u001b[38;5;66;03m# We are swallowing BrokenPipeError (errno.EPIPE) since the server is\u001b[39;00m\n\u001b[0;32m    419\u001b[0m \u001b[38;5;66;03m# legitimately able to close the connection after sending a valid response.\u001b[39;00m\n\u001b[0;32m    420\u001b[0m \u001b[38;5;66;03m# With this behaviour, the received response is still readable.\u001b[39;00m\n",
      "File \u001b[1;32m~\\anaconda3\\envs\\mlflow_testing\\Lib\\site-packages\\urllib3\\connection.py:244\u001b[0m, in \u001b[0;36mHTTPConnection.request\u001b[1;34m(self, method, url, body, headers)\u001b[0m\n\u001b[0;32m    243\u001b[0m     headers[\u001b[38;5;124m\"\u001b[39m\u001b[38;5;124mUser-Agent\u001b[39m\u001b[38;5;124m\"\u001b[39m] \u001b[38;5;241m=\u001b[39m _get_default_user_agent()\n\u001b[1;32m--> 244\u001b[0m \u001b[38;5;28msuper\u001b[39m(HTTPConnection, \u001b[38;5;28mself\u001b[39m)\u001b[38;5;241m.\u001b[39mrequest(method, url, body\u001b[38;5;241m=\u001b[39mbody, headers\u001b[38;5;241m=\u001b[39mheaders)\n",
      "File \u001b[1;32m~\\anaconda3\\envs\\mlflow_testing\\Lib\\http\\client.py:1286\u001b[0m, in \u001b[0;36mHTTPConnection.request\u001b[1;34m(self, method, url, body, headers, encode_chunked)\u001b[0m\n\u001b[0;32m   1285\u001b[0m \u001b[38;5;250m\u001b[39m\u001b[38;5;124;03m\"\"\"Send a complete request to the server.\"\"\"\u001b[39;00m\n\u001b[1;32m-> 1286\u001b[0m \u001b[38;5;28mself\u001b[39m\u001b[38;5;241m.\u001b[39m_send_request(method, url, body, headers, encode_chunked)\n",
      "File \u001b[1;32m~\\anaconda3\\envs\\mlflow_testing\\Lib\\http\\client.py:1332\u001b[0m, in \u001b[0;36mHTTPConnection._send_request\u001b[1;34m(self, method, url, body, headers, encode_chunked)\u001b[0m\n\u001b[0;32m   1331\u001b[0m     body \u001b[38;5;241m=\u001b[39m _encode(body, \u001b[38;5;124m'\u001b[39m\u001b[38;5;124mbody\u001b[39m\u001b[38;5;124m'\u001b[39m)\n\u001b[1;32m-> 1332\u001b[0m \u001b[38;5;28mself\u001b[39m\u001b[38;5;241m.\u001b[39mendheaders(body, encode_chunked\u001b[38;5;241m=\u001b[39mencode_chunked)\n",
      "File \u001b[1;32m~\\anaconda3\\envs\\mlflow_testing\\Lib\\http\\client.py:1281\u001b[0m, in \u001b[0;36mHTTPConnection.endheaders\u001b[1;34m(self, message_body, encode_chunked)\u001b[0m\n\u001b[0;32m   1280\u001b[0m     \u001b[38;5;28;01mraise\u001b[39;00m CannotSendHeader()\n\u001b[1;32m-> 1281\u001b[0m \u001b[38;5;28mself\u001b[39m\u001b[38;5;241m.\u001b[39m_send_output(message_body, encode_chunked\u001b[38;5;241m=\u001b[39mencode_chunked)\n",
      "File \u001b[1;32m~\\anaconda3\\envs\\mlflow_testing\\Lib\\http\\client.py:1041\u001b[0m, in \u001b[0;36mHTTPConnection._send_output\u001b[1;34m(self, message_body, encode_chunked)\u001b[0m\n\u001b[0;32m   1040\u001b[0m \u001b[38;5;28;01mdel\u001b[39;00m \u001b[38;5;28mself\u001b[39m\u001b[38;5;241m.\u001b[39m_buffer[:]\n\u001b[1;32m-> 1041\u001b[0m \u001b[38;5;28mself\u001b[39m\u001b[38;5;241m.\u001b[39msend(msg)\n\u001b[0;32m   1043\u001b[0m \u001b[38;5;28;01mif\u001b[39;00m message_body \u001b[38;5;129;01mis\u001b[39;00m \u001b[38;5;129;01mnot\u001b[39;00m \u001b[38;5;28;01mNone\u001b[39;00m:\n\u001b[0;32m   1044\u001b[0m \n\u001b[0;32m   1045\u001b[0m     \u001b[38;5;66;03m# create a consistent interface to message_body\u001b[39;00m\n",
      "File \u001b[1;32m~\\anaconda3\\envs\\mlflow_testing\\Lib\\http\\client.py:979\u001b[0m, in \u001b[0;36mHTTPConnection.send\u001b[1;34m(self, data)\u001b[0m\n\u001b[0;32m    978\u001b[0m \u001b[38;5;28;01mif\u001b[39;00m \u001b[38;5;28mself\u001b[39m\u001b[38;5;241m.\u001b[39mauto_open:\n\u001b[1;32m--> 979\u001b[0m     \u001b[38;5;28mself\u001b[39m\u001b[38;5;241m.\u001b[39mconnect()\n\u001b[0;32m    980\u001b[0m \u001b[38;5;28;01melse\u001b[39;00m:\n",
      "File \u001b[1;32m~\\anaconda3\\envs\\mlflow_testing\\Lib\\site-packages\\urllib3\\connection.py:205\u001b[0m, in \u001b[0;36mHTTPConnection.connect\u001b[1;34m(self)\u001b[0m\n\u001b[0;32m    204\u001b[0m \u001b[38;5;28;01mdef\u001b[39;00m \u001b[38;5;21mconnect\u001b[39m(\u001b[38;5;28mself\u001b[39m):\n\u001b[1;32m--> 205\u001b[0m     conn \u001b[38;5;241m=\u001b[39m \u001b[38;5;28mself\u001b[39m\u001b[38;5;241m.\u001b[39m_new_conn()\n\u001b[0;32m    206\u001b[0m     \u001b[38;5;28mself\u001b[39m\u001b[38;5;241m.\u001b[39m_prepare_conn(conn)\n",
      "File \u001b[1;32m~\\anaconda3\\envs\\mlflow_testing\\Lib\\site-packages\\urllib3\\connection.py:186\u001b[0m, in \u001b[0;36mHTTPConnection._new_conn\u001b[1;34m(self)\u001b[0m\n\u001b[0;32m    185\u001b[0m \u001b[38;5;28;01mexcept\u001b[39;00m SocketError \u001b[38;5;28;01mas\u001b[39;00m e:\n\u001b[1;32m--> 186\u001b[0m     \u001b[38;5;28;01mraise\u001b[39;00m NewConnectionError(\n\u001b[0;32m    187\u001b[0m         \u001b[38;5;28mself\u001b[39m, \u001b[38;5;124m\"\u001b[39m\u001b[38;5;124mFailed to establish a new connection: \u001b[39m\u001b[38;5;132;01m%s\u001b[39;00m\u001b[38;5;124m\"\u001b[39m \u001b[38;5;241m%\u001b[39m e\n\u001b[0;32m    188\u001b[0m     )\n\u001b[0;32m    190\u001b[0m \u001b[38;5;28;01mreturn\u001b[39;00m conn\n",
      "\u001b[1;31mNewConnectionError\u001b[0m: <urllib3.connection.HTTPConnection object at 0x0000015C8A5CFED0>: Failed to establish a new connection: [WinError 10061] No connection could be made because the target machine actively refused it",
      "\nDuring handling of the above exception, another exception occurred:\n",
      "\u001b[1;31mMaxRetryError\u001b[0m                             Traceback (most recent call last)",
      "File \u001b[1;32m~\\anaconda3\\envs\\mlflow_testing\\Lib\\site-packages\\requests\\adapters.py:486\u001b[0m, in \u001b[0;36mHTTPAdapter.send\u001b[1;34m(self, request, stream, timeout, verify, cert, proxies)\u001b[0m\n\u001b[0;32m    485\u001b[0m \u001b[38;5;28;01mtry\u001b[39;00m:\n\u001b[1;32m--> 486\u001b[0m     resp \u001b[38;5;241m=\u001b[39m conn\u001b[38;5;241m.\u001b[39murlopen(\n\u001b[0;32m    487\u001b[0m         method\u001b[38;5;241m=\u001b[39mrequest\u001b[38;5;241m.\u001b[39mmethod,\n\u001b[0;32m    488\u001b[0m         url\u001b[38;5;241m=\u001b[39murl,\n\u001b[0;32m    489\u001b[0m         body\u001b[38;5;241m=\u001b[39mrequest\u001b[38;5;241m.\u001b[39mbody,\n\u001b[0;32m    490\u001b[0m         headers\u001b[38;5;241m=\u001b[39mrequest\u001b[38;5;241m.\u001b[39mheaders,\n\u001b[0;32m    491\u001b[0m         redirect\u001b[38;5;241m=\u001b[39m\u001b[38;5;28;01mFalse\u001b[39;00m,\n\u001b[0;32m    492\u001b[0m         assert_same_host\u001b[38;5;241m=\u001b[39m\u001b[38;5;28;01mFalse\u001b[39;00m,\n\u001b[0;32m    493\u001b[0m         preload_content\u001b[38;5;241m=\u001b[39m\u001b[38;5;28;01mFalse\u001b[39;00m,\n\u001b[0;32m    494\u001b[0m         decode_content\u001b[38;5;241m=\u001b[39m\u001b[38;5;28;01mFalse\u001b[39;00m,\n\u001b[0;32m    495\u001b[0m         retries\u001b[38;5;241m=\u001b[39m\u001b[38;5;28mself\u001b[39m\u001b[38;5;241m.\u001b[39mmax_retries,\n\u001b[0;32m    496\u001b[0m         timeout\u001b[38;5;241m=\u001b[39mtimeout,\n\u001b[0;32m    497\u001b[0m         chunked\u001b[38;5;241m=\u001b[39mchunked,\n\u001b[0;32m    498\u001b[0m     )\n\u001b[0;32m    500\u001b[0m \u001b[38;5;28;01mexcept\u001b[39;00m (ProtocolError, \u001b[38;5;167;01mOSError\u001b[39;00m) \u001b[38;5;28;01mas\u001b[39;00m err:\n",
      "File \u001b[1;32m~\\anaconda3\\envs\\mlflow_testing\\Lib\\site-packages\\urllib3\\connectionpool.py:799\u001b[0m, in \u001b[0;36mHTTPConnectionPool.urlopen\u001b[1;34m(self, method, url, body, headers, retries, redirect, assert_same_host, timeout, pool_timeout, release_conn, chunked, body_pos, **response_kw)\u001b[0m\n\u001b[0;32m    797\u001b[0m     e \u001b[38;5;241m=\u001b[39m ProtocolError(\u001b[38;5;124m\"\u001b[39m\u001b[38;5;124mConnection aborted.\u001b[39m\u001b[38;5;124m\"\u001b[39m, e)\n\u001b[1;32m--> 799\u001b[0m retries \u001b[38;5;241m=\u001b[39m retries\u001b[38;5;241m.\u001b[39mincrement(\n\u001b[0;32m    800\u001b[0m     method, url, error\u001b[38;5;241m=\u001b[39me, _pool\u001b[38;5;241m=\u001b[39m\u001b[38;5;28mself\u001b[39m, _stacktrace\u001b[38;5;241m=\u001b[39msys\u001b[38;5;241m.\u001b[39mexc_info()[\u001b[38;5;241m2\u001b[39m]\n\u001b[0;32m    801\u001b[0m )\n\u001b[0;32m    802\u001b[0m retries\u001b[38;5;241m.\u001b[39msleep()\n",
      "File \u001b[1;32m~\\anaconda3\\envs\\mlflow_testing\\Lib\\site-packages\\urllib3\\util\\retry.py:592\u001b[0m, in \u001b[0;36mRetry.increment\u001b[1;34m(self, method, url, response, error, _pool, _stacktrace)\u001b[0m\n\u001b[0;32m    591\u001b[0m \u001b[38;5;28;01mif\u001b[39;00m new_retry\u001b[38;5;241m.\u001b[39mis_exhausted():\n\u001b[1;32m--> 592\u001b[0m     \u001b[38;5;28;01mraise\u001b[39;00m MaxRetryError(_pool, url, error \u001b[38;5;129;01mor\u001b[39;00m ResponseError(cause))\n\u001b[0;32m    594\u001b[0m log\u001b[38;5;241m.\u001b[39mdebug(\u001b[38;5;124m\"\u001b[39m\u001b[38;5;124mIncremented Retry for (url=\u001b[39m\u001b[38;5;124m'\u001b[39m\u001b[38;5;132;01m%s\u001b[39;00m\u001b[38;5;124m'\u001b[39m\u001b[38;5;124m): \u001b[39m\u001b[38;5;132;01m%r\u001b[39;00m\u001b[38;5;124m\"\u001b[39m, url, new_retry)\n",
      "\u001b[1;31mMaxRetryError\u001b[0m: HTTPConnectionPool(host='localhost', port=5002): Max retries exceeded with url: /invocations (Caused by NewConnectionError('<urllib3.connection.HTTPConnection object at 0x0000015C8A5CFED0>: Failed to establish a new connection: [WinError 10061] No connection could be made because the target machine actively refused it'))",
      "\nDuring handling of the above exception, another exception occurred:\n",
      "\u001b[1;31mConnectionError\u001b[0m                           Traceback (most recent call last)",
      "Cell \u001b[1;32mIn[50], line 11\u001b[0m\n\u001b[0;32m      4\u001b[0m data \u001b[38;5;241m=\u001b[39m {\n\u001b[0;32m      5\u001b[0m     \u001b[38;5;124m\"\u001b[39m\u001b[38;5;124mdataframe_split\u001b[39m\u001b[38;5;124m\"\u001b[39m: { \n\u001b[0;32m      6\u001b[0m         \u001b[38;5;124m\"\u001b[39m\u001b[38;5;124mcolumns\u001b[39m\u001b[38;5;124m\"\u001b[39m: [\u001b[38;5;124m'\u001b[39m\u001b[38;5;124mds\u001b[39m\u001b[38;5;124m'\u001b[39m],\n\u001b[0;32m      7\u001b[0m         \u001b[38;5;124m\"\u001b[39m\u001b[38;5;124mdata\u001b[39m\u001b[38;5;124m\"\u001b[39m: [[\u001b[38;5;241m30\u001b[39m]]\n\u001b[0;32m      8\u001b[0m     }\n\u001b[0;32m      9\u001b[0m }\n\u001b[0;32m     10\u001b[0m \u001b[38;5;66;03m# do a post request\u001b[39;00m\n\u001b[1;32m---> 11\u001b[0m response \u001b[38;5;241m=\u001b[39m requests\u001b[38;5;241m.\u001b[39mpost(endpoint, json\u001b[38;5;241m=\u001b[39mdata)\n\u001b[0;32m     12\u001b[0m \u001b[38;5;28mprint\u001b[39m(response\u001b[38;5;241m.\u001b[39mjson())\n",
      "File \u001b[1;32m~\\anaconda3\\envs\\mlflow_testing\\Lib\\site-packages\\requests\\api.py:115\u001b[0m, in \u001b[0;36mpost\u001b[1;34m(url, data, json, **kwargs)\u001b[0m\n\u001b[0;32m    103\u001b[0m \u001b[38;5;28;01mdef\u001b[39;00m \u001b[38;5;21mpost\u001b[39m(url, data\u001b[38;5;241m=\u001b[39m\u001b[38;5;28;01mNone\u001b[39;00m, json\u001b[38;5;241m=\u001b[39m\u001b[38;5;28;01mNone\u001b[39;00m, \u001b[38;5;241m*\u001b[39m\u001b[38;5;241m*\u001b[39mkwargs):\n\u001b[0;32m    104\u001b[0m \u001b[38;5;250m    \u001b[39m\u001b[38;5;124mr\u001b[39m\u001b[38;5;124;03m\"\"\"Sends a POST request.\u001b[39;00m\n\u001b[0;32m    105\u001b[0m \n\u001b[0;32m    106\u001b[0m \u001b[38;5;124;03m    :param url: URL for the new :class:`Request` object.\u001b[39;00m\n\u001b[1;32m   (...)\u001b[0m\n\u001b[0;32m    112\u001b[0m \u001b[38;5;124;03m    :rtype: requests.Response\u001b[39;00m\n\u001b[0;32m    113\u001b[0m \u001b[38;5;124;03m    \"\"\"\u001b[39;00m\n\u001b[1;32m--> 115\u001b[0m     \u001b[38;5;28;01mreturn\u001b[39;00m request(\u001b[38;5;124m\"\u001b[39m\u001b[38;5;124mpost\u001b[39m\u001b[38;5;124m\"\u001b[39m, url, data\u001b[38;5;241m=\u001b[39mdata, json\u001b[38;5;241m=\u001b[39mjson, \u001b[38;5;241m*\u001b[39m\u001b[38;5;241m*\u001b[39mkwargs)\n",
      "File \u001b[1;32m~\\anaconda3\\envs\\mlflow_testing\\Lib\\site-packages\\requests\\api.py:59\u001b[0m, in \u001b[0;36mrequest\u001b[1;34m(method, url, **kwargs)\u001b[0m\n\u001b[0;32m     55\u001b[0m \u001b[38;5;66;03m# By using the 'with' statement we are sure the session is closed, thus we\u001b[39;00m\n\u001b[0;32m     56\u001b[0m \u001b[38;5;66;03m# avoid leaving sockets open which can trigger a ResourceWarning in some\u001b[39;00m\n\u001b[0;32m     57\u001b[0m \u001b[38;5;66;03m# cases, and look like a memory leak in others.\u001b[39;00m\n\u001b[0;32m     58\u001b[0m \u001b[38;5;28;01mwith\u001b[39;00m sessions\u001b[38;5;241m.\u001b[39mSession() \u001b[38;5;28;01mas\u001b[39;00m session:\n\u001b[1;32m---> 59\u001b[0m     \u001b[38;5;28;01mreturn\u001b[39;00m session\u001b[38;5;241m.\u001b[39mrequest(method\u001b[38;5;241m=\u001b[39mmethod, url\u001b[38;5;241m=\u001b[39murl, \u001b[38;5;241m*\u001b[39m\u001b[38;5;241m*\u001b[39mkwargs)\n",
      "File \u001b[1;32m~\\anaconda3\\envs\\mlflow_testing\\Lib\\site-packages\\requests\\sessions.py:589\u001b[0m, in \u001b[0;36mSession.request\u001b[1;34m(self, method, url, params, data, headers, cookies, files, auth, timeout, allow_redirects, proxies, hooks, stream, verify, cert, json)\u001b[0m\n\u001b[0;32m    584\u001b[0m send_kwargs \u001b[38;5;241m=\u001b[39m {\n\u001b[0;32m    585\u001b[0m     \u001b[38;5;124m\"\u001b[39m\u001b[38;5;124mtimeout\u001b[39m\u001b[38;5;124m\"\u001b[39m: timeout,\n\u001b[0;32m    586\u001b[0m     \u001b[38;5;124m\"\u001b[39m\u001b[38;5;124mallow_redirects\u001b[39m\u001b[38;5;124m\"\u001b[39m: allow_redirects,\n\u001b[0;32m    587\u001b[0m }\n\u001b[0;32m    588\u001b[0m send_kwargs\u001b[38;5;241m.\u001b[39mupdate(settings)\n\u001b[1;32m--> 589\u001b[0m resp \u001b[38;5;241m=\u001b[39m \u001b[38;5;28mself\u001b[39m\u001b[38;5;241m.\u001b[39msend(prep, \u001b[38;5;241m*\u001b[39m\u001b[38;5;241m*\u001b[39msend_kwargs)\n\u001b[0;32m    591\u001b[0m \u001b[38;5;28;01mreturn\u001b[39;00m resp\n",
      "File \u001b[1;32m~\\anaconda3\\envs\\mlflow_testing\\Lib\\site-packages\\requests\\sessions.py:703\u001b[0m, in \u001b[0;36mSession.send\u001b[1;34m(self, request, **kwargs)\u001b[0m\n\u001b[0;32m    700\u001b[0m start \u001b[38;5;241m=\u001b[39m preferred_clock()\n\u001b[0;32m    702\u001b[0m \u001b[38;5;66;03m# Send the request\u001b[39;00m\n\u001b[1;32m--> 703\u001b[0m r \u001b[38;5;241m=\u001b[39m adapter\u001b[38;5;241m.\u001b[39msend(request, \u001b[38;5;241m*\u001b[39m\u001b[38;5;241m*\u001b[39mkwargs)\n\u001b[0;32m    705\u001b[0m \u001b[38;5;66;03m# Total elapsed time of the request (approximately)\u001b[39;00m\n\u001b[0;32m    706\u001b[0m elapsed \u001b[38;5;241m=\u001b[39m preferred_clock() \u001b[38;5;241m-\u001b[39m start\n",
      "File \u001b[1;32m~\\anaconda3\\envs\\mlflow_testing\\Lib\\site-packages\\requests\\adapters.py:519\u001b[0m, in \u001b[0;36mHTTPAdapter.send\u001b[1;34m(self, request, stream, timeout, verify, cert, proxies)\u001b[0m\n\u001b[0;32m    515\u001b[0m     \u001b[38;5;28;01mif\u001b[39;00m \u001b[38;5;28misinstance\u001b[39m(e\u001b[38;5;241m.\u001b[39mreason, _SSLError):\n\u001b[0;32m    516\u001b[0m         \u001b[38;5;66;03m# This branch is for urllib3 v1.22 and later.\u001b[39;00m\n\u001b[0;32m    517\u001b[0m         \u001b[38;5;28;01mraise\u001b[39;00m SSLError(e, request\u001b[38;5;241m=\u001b[39mrequest)\n\u001b[1;32m--> 519\u001b[0m     \u001b[38;5;28;01mraise\u001b[39;00m \u001b[38;5;167;01mConnectionError\u001b[39;00m(e, request\u001b[38;5;241m=\u001b[39mrequest)\n\u001b[0;32m    521\u001b[0m \u001b[38;5;28;01mexcept\u001b[39;00m ClosedPoolError \u001b[38;5;28;01mas\u001b[39;00m e:\n\u001b[0;32m    522\u001b[0m     \u001b[38;5;28;01mraise\u001b[39;00m \u001b[38;5;167;01mConnectionError\u001b[39;00m(e, request\u001b[38;5;241m=\u001b[39mrequest)\n",
      "\u001b[1;31mConnectionError\u001b[0m: HTTPConnectionPool(host='localhost', port=5002): Max retries exceeded with url: /invocations (Caused by NewConnectionError('<urllib3.connection.HTTPConnection object at 0x0000015C8A5CFED0>: Failed to establish a new connection: [WinError 10061] No connection could be made because the target machine actively refused it'))"
     ]
    }
   ],
   "source": [
    "import requests\n",
    "\n",
    "endpoint = \"http://localhost:5002/invocations\" # make sure the port number matches the one you input in terminal\n",
    "data = {\n",
    "    \"dataframe_split\": { \n",
    "        \"columns\": ['ds'],\n",
    "        \"data\": [[30]]\n",
    "    }\n",
    "}\n",
    "# do a post request\n",
    "response = requests.post(endpoint, json=data)\n",
    "print(response.json())"
   ]
  },
  {
   "cell_type": "code",
   "execution_count": null,
   "id": "49f86cf1-e6d0-455d-aca4-6f91ea1f2863",
   "metadata": {},
   "outputs": [],
   "source": []
  }
 ],
 "metadata": {
  "kernelspec": {
   "display_name": "Python 3 (ipykernel)",
   "language": "python",
   "name": "python3"
  },
  "language_info": {
   "codemirror_mode": {
    "name": "ipython",
    "version": 3
   },
   "file_extension": ".py",
   "mimetype": "text/x-python",
   "name": "python",
   "nbconvert_exporter": "python",
   "pygments_lexer": "ipython3",
   "version": "3.11.5"
  }
 },
 "nbformat": 4,
 "nbformat_minor": 5
}
