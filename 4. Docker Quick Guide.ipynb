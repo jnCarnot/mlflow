{
 "cells": [
  {
   "cell_type": "markdown",
   "id": "569572b0-8f9d-470e-9883-4488cc76f3de",
   "metadata": {},
   "source": [
    "# Docker Quick Guide"
   ]
  },
  {
   "cell_type": "markdown",
   "id": "de227bdf-a19a-4832-a348-26ad7bed3b55",
   "metadata": {},
   "source": [
    "![](statics/docker_concept.png)"
   ]
  },
  {
   "cell_type": "markdown",
   "id": "f1da80b1-ac86-470a-bd81-e0e1a169ee4b",
   "metadata": {},
   "source": [
    "**What is docker?**\n",
    "\n",
    "Docker is an operating system for containers. Similar to how a virtual machine virtualizes (removes the need to directly manage) server hardware, containers virtualize the operating system of a server. Docker is installed on each server and provides simple commands you can use to build, start, or stop containers.\n",
    "\n",
    "Quick tutorial: https://www.youtube.com/watch?v=gAkwW2tuIqE"
   ]
  },
  {
   "cell_type": "markdown",
   "id": "b5066469-05cc-4e9e-b017-2a0e6bf4a9e2",
   "metadata": {},
   "source": [
    "## Docker x MLflow | From start to finish\n",
    "\n",
    "The following demonstration is done entirely on CLI"
   ]
  },
  {
   "cell_type": "markdown",
   "id": "9fb2dc00-9a52-405d-97d1-ead4eb8ccc00",
   "metadata": {},
   "source": [
    "### **1. Download Docker Desktop**\n",
    "\n",
    "https://www.docker.com/products/docker-desktop/"
   ]
  },
  {
   "cell_type": "markdown",
   "id": "86353502-090f-42af-8c9f-1e5351785c55",
   "metadata": {},
   "source": [
    "### **2. Connect to the desire mlflow tracking server**\n",
    "\n",
    "Mac/Linux/Unix:\n",
    "\n",
    "`export MLFLOW_TRACKING_URI=sqlite:///mlruns.db` (replace sqlite:///mlruns.db with your tracking server)\n",
    "\n",
    "Windows:\n",
    "\n",
    "`set MLFLOW_TRACKING_URI=sqlite:///mlruns.db` <br>\n",
    "or use `$env:MLFLOW_TRACKING_URI=\"sqlite:///mlruns.db` if the above doesn't work"
   ]
  },
  {
   "cell_type": "markdown",
   "id": "f47d7b37-7904-4951-9063-0043719bc93d",
   "metadata": {},
   "source": [
    "### **3. Create docker image**\n",
    "\n",
    "`mlflow models build-docker --model-uri \"models:/iris_model/1\" --name \"iris\"` <br>\n",
    "\n",
    ">**models:/iris_model/1 >> \"models:/\\<registered model name>/\\<model version>\"** <br>\n",
    ">**--name \"iris\" >> --name \"name of the image\"**\n"
   ]
  },
  {
   "cell_type": "markdown",
   "id": "6e9b0742-3f25-42ce-940d-d648a9275517",
   "metadata": {},
   "source": [
    "<br>"
   ]
  },
  {
   "attachments": {},
   "cell_type": "markdown",
   "id": "fb61b8c8-5735-47fa-abdc-a78dbd7c5290",
   "metadata": {},
   "source": [
    "![image.png](statics/docker_desktop_image.png)"
   ]
  },
  {
   "cell_type": "markdown",
   "id": "780ab9b6-3224-433f-97df-2e048512e51f",
   "metadata": {},
   "source": [
    "After the image finish building, you will be able to see it in the Docker Desktop"
   ]
  },
  {
   "cell_type": "markdown",
   "id": "686b44ff-e401-4346-b2a8-2b7c500d9fa0",
   "metadata": {},
   "source": [
    "### **4. Run the container**\n",
    "\n",
    "`docker run -p 5002:8080 iris`\n",
    "\n",
    "**Noted that it is necessary to use -p flag which serves as port forwarding for it to be able to run locally**\n",
    "\n",
    ">Port 5002 represents the local port, this is the port that you will be running the model on your local device\n",
    "\n",
    ">Port 8080 represents the container port\n",
    "\n",
    ">\"iris\" is the name we defined in section 3"
   ]
  },
  {
   "cell_type": "markdown",
   "id": "d51e230c-4cdc-44bc-9c94-7885c0ec1ca1",
   "metadata": {},
   "source": [
    "![](statics/runningcontainer.png)"
   ]
  },
  {
   "cell_type": "markdown",
   "id": "9bbc821d-8e56-4ec0-8a4d-da86422aae95",
   "metadata": {},
   "source": [
    "You will be able to see the container running in your docker desktop (PORT 5002 is the local port that you will run your container on)"
   ]
  },
  {
   "cell_type": "markdown",
   "id": "d2971f33-c6e0-4d0b-8973-706ca1672e26",
   "metadata": {},
   "source": [
    "### **5. Use the model**\n",
    "\n",
    "<br>\n",
    "\n",
    "#### **5.1 Curl**\n",
    "Now that the container is running, you can access the model is various ways. The first being using the `curl` command in CLI\n",
    "\n",
    "`curl http://127.0.0.1:5002/invocations -H 'Content-Type: application/json' -d '{\"dataframe_split\": {\"data\": [[6.1, 2.8, 4.7, 1.2], [5.7, 3.8, 1.7, 0.3]]}}'`\n",
    "\n",
    "> http://127.0.0.1:5002/invocations >> 5002 is the local port that we are running the container on, /invocations is the endpoint for mlflow conventions\n",
    "\n",
    "**Note: Since windows does not support single quote, you have to use this command instead if you are using windows**\n",
    "\n",
    "`curl http://127.0.0.1:5002/invocations -H \"Content-Type: application/json\" -d \"{\\\"dataframe_split\\\": {\\\"data\\\": [[6.1, 2.8, 4.7, 1.2], [5.7, 3.8, 1.7, 0.3]]}}\"`\n",
    "\n",
    "The curl command accepts several content-type and keys, for more information: https://mlflow.org/docs/latest/models.html#local-model-deployment\n",
    "\n",
    "<br>\n",
    "\n",
    "#### **5.2 request**\n",
    "Alternatively, you can use the **request** library to make a post request to the corresponding endpoint\n",
    "\n",
    "```python\n",
    "import requests\n",
    "\n",
    "endpoint = \"http://localhost:5002/invocations\" # make sure the port number matches the one you input in terminal\n",
    "data = {\n",
    "    \"dataframe_split\": {  \n",
    "        \"data\": [[6.1, 2.8, 4.7, 1.2], [5.7, 3.8, 1.7, 0.3]]   \n",
    "    }\n",
    "}\n",
    "# do a post request\n",
    "response = requests.post(endpoint, json=data)\n",
    "print(response.json())\n",
    "``` \n",
    "<br>"
   ]
  },
  {
   "cell_type": "markdown",
   "id": "3e2fa4d2-ba4f-4f55-8389-ec4b3942aa7a",
   "metadata": {},
   "source": [
    "### **6. Pushing the docker repository**"
   ]
  },
  {
   "cell_type": "markdown",
   "id": "f9919710-9b82-4d52-b319-32f7f509dba6",
   "metadata": {},
   "source": [
    "To push a docker image, you first need to **login** to your docker account on terminal with the following command\n",
    "\n",
    "> `docker login`\n",
    "\n",
    "\n",
    "Before you push the docker image, you should **tag** the image first\n",
    "\n",
    "`docker tag <image name> <docker usrname>/<name>:<tag>`\n",
    "\n",
    "Eg. `docker tag iris jncarnot/irisapp:v1.0`\n",
    "\n",
    "**Tips: You can use `docker images` to keep track**\n",
    "\n",
    "![](statics/dockertag.png)"
   ]
  },
  {
   "cell_type": "markdown",
   "id": "fd7c3826-45dd-4c60-9da9-d3931db117cc",
   "metadata": {},
   "source": [
    "After tagging, you can **push** the image to docker's hub. The point of pushing is that other people can now **pull** the image on their own device.\n",
    "\n",
    "`docker push <repository>:<tag>`\n",
    "\n",
    "following our previous example, `docker push jncarnot/irisapp:v1.0`"
   ]
  },
  {
   "cell_type": "markdown",
   "id": "bbfe7fb5-8da4-4c52-be40-77965089554e",
   "metadata": {},
   "source": [
    "After successfully pushing, you can now see the image in docker hub (https://hub.docker.com/repositories)\n",
    "\n",
    "![](statics/dockerpushed.png)"
   ]
  },
  {
   "cell_type": "markdown",
   "id": "1523399e-56e8-48d9-b038-5c0fa829a27a",
   "metadata": {},
   "source": [
    "### **7. Pulling the docker repository**"
   ]
  },
  {
   "cell_type": "markdown",
   "id": "e287b52c-a8b7-4615-ac43-076c410839ae",
   "metadata": {},
   "source": [
    "And now you can **pull** the docker image on another device (with Docker installed) with the following command\n",
    "\n",
    "`docker pull <repository>`\n",
    "\n",
    "Eg. `docker pull jncarnot/irisapp`"
   ]
  },
  {
   "cell_type": "markdown",
   "id": "e5d6aa0c-3faf-4106-a9d7-10869871a251",
   "metadata": {},
   "source": [
    "## **docker-compose**"
   ]
  },
  {
   "cell_type": "code",
   "execution_count": null,
   "id": "27d8fa98-7ec6-48b4-aa7c-224c938018ff",
   "metadata": {},
   "outputs": [],
   "source": []
  }
 ],
 "metadata": {
  "kernelspec": {
   "display_name": "Python 3 (ipykernel)",
   "language": "python",
   "name": "python3"
  },
  "language_info": {
   "codemirror_mode": {
    "name": "ipython",
    "version": 3
   },
   "file_extension": ".py",
   "mimetype": "text/x-python",
   "name": "python",
   "nbconvert_exporter": "python",
   "pygments_lexer": "ipython3",
   "version": "3.11.5"
  }
 },
 "nbformat": 4,
 "nbformat_minor": 5
}
